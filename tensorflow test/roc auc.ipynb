{
 "cells": [
  {
   "cell_type": "markdown",
   "id": "54f5aa02-b755-4c9a-b1ae-d366eaf043bc",
   "metadata": {},
   "source": [
    "Tensorflow using house sales"
   ]
  },
  {
   "cell_type": "code",
   "execution_count": 5,
   "id": "8b513ecd-2a87-414d-9d24-843bca0f3033",
   "metadata": {},
   "outputs": [],
   "source": [
    "import tensorflow as tf\n",
    "tf.random.set_seed(1)\n",
    "\n",
    "from tensorflow.keras.models import Sequential\n",
    "model = Sequential()\n",
    "\n",
    "from tensorflow.keras.layers import Dense, InputLayer\n",
    "input_layer = InputLayer(input_shape=(2,))\n",
    "model.add(input_layer)\n",
    "hidden_layer = Dense(3)\n",
    "model.add(hidden_layer)\n",
    "\n",
    "second_hidden_layer = Dense(5)\n",
    "model.add(second_hidden_layer)\n",
    "third_hidden_layer = Dense(2)\n",
    "model.add(third_hidden_layer)\n",
    "\n",
    "output_layer = Dense(1, activation = 'sigmoid')\n",
    "model.add(output_layer)\n",
    "\n",
    "model.compile(loss='binary_crossentropy')"
   ]
  },
  {
   "cell_type": "code",
   "execution_count": 7,
   "id": "82e55912-bbe0-48eb-802c-433cb0dd1990",
   "metadata": {
    "collapsed": true,
    "jupyter": {
     "outputs_hidden": true
    },
    "tags": []
   },
   "outputs": [
    {
     "name": "stdout",
     "output_type": "stream",
     "text": [
      "Epoch 1/10\n"
     ]
    },
    {
     "name": "stderr",
     "output_type": "stream",
     "text": [
      "2022-11-10 08:36:35.546273: I tensorflow/core/grappler/optimizers/custom_graph_optimizer_registry.cc:114] Plugin optimizer for device_type GPU is enabled.\n"
     ]
    },
    {
     "name": "stdout",
     "output_type": "stream",
     "text": [
      "8/8 [==============================] - 1s 17ms/step - loss: 1.4741\n",
      "Epoch 2/10\n",
      "8/8 [==============================] - 0s 8ms/step - loss: 1.2866\n",
      "Epoch 3/10\n",
      "8/8 [==============================] - 0s 8ms/step - loss: 1.1636\n",
      "Epoch 4/10\n",
      "8/8 [==============================] - 0s 8ms/step - loss: 1.0670\n",
      "Epoch 5/10\n",
      "8/8 [==============================] - 0s 8ms/step - loss: 0.9917\n",
      "Epoch 6/10\n",
      "8/8 [==============================] - 0s 8ms/step - loss: 0.9283\n",
      "Epoch 7/10\n",
      "8/8 [==============================] - 0s 8ms/step - loss: 0.8798\n",
      "Epoch 8/10\n",
      "8/8 [==============================] - 0s 8ms/step - loss: 0.8386\n",
      "Epoch 9/10\n",
      "8/8 [==============================] - 0s 8ms/step - loss: 0.8067\n",
      "Epoch 10/10\n",
      "8/8 [==============================] - 0s 8ms/step - loss: 0.7808\n"
     ]
    },
    {
     "data": {
      "text/plain": [
       "<keras.callbacks.History at 0x17ae28490>"
      ]
     },
     "execution_count": 7,
     "metadata": {},
     "output_type": "execute_result"
    }
   ],
   "source": [
    "from sklearn.model_selection import train_test_split\n",
    "import pandas as pd\n",
    "data = pd.read_csv('data_science_score.csv')\n",
    "\n",
    "X = data.loc[:, ['Theoretical knowledge', 'Programming skill']]\n",
    "y = data.loc[:, ['Class']]\n",
    "\n",
    "X_train, X_test, y_train, y_test = train_test_split(X, y, test_size = 0.30)\n",
    "\n",
    "model.fit(X_train, y_train, epochs=10)"
   ]
  },
  {
   "cell_type": "code",
   "execution_count": 11,
   "id": "0b765849-89e4-4924-a802-17ce3dd81551",
   "metadata": {
    "collapsed": true,
    "jupyter": {
     "outputs_hidden": true
    },
    "tags": []
   },
   "outputs": [
    {
     "name": "stdout",
     "output_type": "stream",
     "text": [
      "4/4 [==============================] - 0s 4ms/step\n",
      "[[0.46673685]\n",
      " [0.63869566]\n",
      " [0.46673685]\n",
      " [0.7368881 ]\n",
      " [0.7080538 ]\n",
      " [0.46673685]\n",
      " [0.6774428 ]\n",
      " [0.45481905]\n",
      " [0.7417958 ]\n",
      " [0.71268344]\n",
      " [0.62755424]\n",
      " [0.6611917 ]\n",
      " [0.61023587]\n",
      " [0.6048707 ]\n",
      " [0.75974107]\n",
      " [0.54562116]\n",
      " [0.6452303 ]\n",
      " [0.6109407 ]\n",
      " [0.5090298 ]\n",
      " [0.5329672 ]\n",
      " [0.6554636 ]\n",
      " [0.49703866]\n",
      " [0.55119395]\n",
      " [0.7417958 ]\n",
      " [0.7080538 ]\n",
      " [0.7027617 ]\n",
      " [0.46747476]\n",
      " [0.5817264 ]\n",
      " [0.43740785]\n",
      " [0.71268344]\n",
      " [0.5273622 ]\n",
      " [0.7417958 ]\n",
      " [0.7080538 ]\n",
      " [0.43740785]\n",
      " [0.48505092]\n",
      " [0.49777985]\n",
      " [0.6871973 ]\n",
      " [0.43740785]\n",
      " [0.5817264 ]\n",
      " [0.62228   ]\n",
      " [0.5281011 ]\n",
      " [0.6823401 ]\n",
      " [0.58790976]\n",
      " [0.6561327 ]\n",
      " [0.71268344]\n",
      " [0.49777985]\n",
      " [0.5755172 ]\n",
      " [0.49703866]\n",
      " [0.75974107]\n",
      " [0.5273622 ]\n",
      " [0.7508764 ]\n",
      " [0.5034052 ]\n",
      " [0.51539254]\n",
      " [0.48505092]\n",
      " [0.43740785]\n",
      " [0.7027617 ]\n",
      " [0.6452303 ]\n",
      " [0.63279843]\n",
      " [0.61023587]\n",
      " [0.7325021 ]\n",
      " [0.6926452 ]\n",
      " [0.5700109 ]\n",
      " [0.693276  ]\n",
      " [0.71329004]\n",
      " [0.49777985]\n",
      " [0.5090298 ]\n",
      " [0.7508764 ]\n",
      " [0.54562116]\n",
      " [0.68298227]\n",
      " [0.5994801 ]\n",
      " [0.62228   ]\n",
      " [0.5692841 ]\n",
      " [0.7325021 ]\n",
      " [0.47943258]\n",
      " [0.58100486]\n",
      " [0.5329672 ]\n",
      " [0.5700109 ]\n",
      " [0.5871913 ]\n",
      " [0.6554636 ]\n",
      " [0.6282469 ]\n",
      " [0.6774428 ]\n",
      " [0.5034052 ]\n",
      " [0.6561327 ]\n",
      " [0.5994801 ]\n",
      " [0.49703866]\n",
      " [0.44295278]\n",
      " [0.6662141 ]\n",
      " [0.46673685]\n",
      " [0.70338064]\n",
      " [0.5926348 ]\n",
      " [0.5217504 ]\n",
      " [0.46114066]\n",
      " [0.6503642 ]\n",
      " [0.48505092]\n",
      " [0.7508764 ]\n",
      " [0.45481905]\n",
      " [0.58100486]\n",
      " [0.47943258]\n",
      " [0.5217504 ]\n",
      " [0.6561327 ]\n",
      " [0.5210106 ]\n",
      " [0.6774428 ]\n",
      " [0.6871973 ]\n",
      " [0.7080538 ]\n",
      " [0.7368881 ]\n",
      " [0.54562116]\n",
      " [0.71268344]\n",
      " [0.6926452 ]]\n"
     ]
    }
   ],
   "source": [
    "y_pred = model.predict(X_test)\n",
    "print(y_pred) #is probabilities (auc)"
   ]
  },
  {
   "cell_type": "code",
   "execution_count": 16,
   "id": "f42e922a-0544-436e-819f-ede963895477",
   "metadata": {
    "collapsed": true,
    "jupyter": {
     "outputs_hidden": true
    },
    "tags": []
   },
   "outputs": [
    {
     "name": "stdout",
     "output_type": "stream",
     "text": [
      "     Class\n",
      "285      1\n",
      "174      0\n",
      "170      0\n",
      "212      1\n",
      "352      0\n",
      "..     ...\n",
      "163      0\n",
      "17       1\n",
      "165      0\n",
      "178      0\n",
      "199      1\n",
      "\n",
      "[108 rows x 1 columns]\n"
     ]
    }
   ],
   "source": [
    "print(y_test) #is binary"
   ]
  },
  {
   "cell_type": "code",
   "execution_count": 19,
   "id": "a4b3d897-3627-4c42-8fe6-23fcfbb6fce3",
   "metadata": {},
   "outputs": [
    {
     "data": {
      "text/plain": [
       "0.4694950911640954"
      ]
     },
     "execution_count": 19,
     "metadata": {},
     "output_type": "execute_result"
    }
   ],
   "source": [
    "from sklearn.metrics import precision_score, recall_score, f1_score, roc_auc_score\n",
    "\n",
    "#use roc_auc_score() for binary classification\n",
    "roc_auc_score(y_test, y_pred)"
   ]
  }
 ],
 "metadata": {
  "kernelspec": {
   "display_name": "Python 3.9 (tensorflow)",
   "language": "python",
   "name": "tensorflow"
  },
  "language_info": {
   "codemirror_mode": {
    "name": "ipython",
    "version": 3
   },
   "file_extension": ".py",
   "mimetype": "text/x-python",
   "name": "python",
   "nbconvert_exporter": "python",
   "pygments_lexer": "ipython3",
   "version": "3.9.13"
  }
 },
 "nbformat": 4,
 "nbformat_minor": 5
}
