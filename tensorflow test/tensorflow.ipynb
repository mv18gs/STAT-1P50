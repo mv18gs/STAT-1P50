{
 "cells": [
  {
   "cell_type": "markdown",
   "id": "2fb12f7f-a7b0-4722-abd0-cd8c476619f1",
   "metadata": {},
   "source": [
    "# Installation"
   ]
  },
  {
   "cell_type": "code",
   "execution_count": 3,
   "id": "c8d0da42-0ad1-46a6-8670-57c4f1367c45",
   "metadata": {
    "collapsed": true,
    "jupyter": {
     "outputs_hidden": true,
     "source_hidden": true
    },
    "tags": []
   },
   "outputs": [
    {
     "name": "stdout",
     "output_type": "stream",
     "text": [
      "Hello world!\n"
     ]
    }
   ],
   "source": [
    "print(\"Hello world!\")"
   ]
  },
  {
   "cell_type": "code",
   "execution_count": 2,
   "id": "13d6fc5c-0c78-463d-852c-9173258dc0c7",
   "metadata": {
    "collapsed": true,
    "jupyter": {
     "outputs_hidden": true,
     "source_hidden": true
    },
    "tags": []
   },
   "outputs": [
    {
     "name": "stdout",
     "output_type": "stream",
     "text": [
      "Requirement already satisfied: pip in /Users/marcusvillena/opt/anaconda3/lib/python3.9/site-packages (22.3)\n",
      "Collecting pip\n",
      "  Downloading pip-22.3.1-py3-none-any.whl (2.1 MB)\n",
      "\u001b[2K     \u001b[90m━━━━━━━━━━━━━━━━━━━━━━━━━━━━━━━━━━━━━━━━\u001b[0m \u001b[32m2.1/2.1 MB\u001b[0m \u001b[31m3.3 MB/s\u001b[0m eta \u001b[36m0:00:00\u001b[0m00:01\u001b[0m00:01\u001b[0m\n",
      "\u001b[?25hInstalling collected packages: pip\n",
      "  Attempting uninstall: pip\n",
      "    Found existing installation: pip 22.3\n",
      "    Uninstalling pip-22.3:\n",
      "      Successfully uninstalled pip-22.3\n",
      "Successfully installed pip-22.3.1\n"
     ]
    }
   ],
   "source": [
    "!pip install --upgrade pip"
   ]
  },
  {
   "cell_type": "code",
   "execution_count": 6,
   "id": "1a8d046f-92fa-43cf-9f42-1be79f302470",
   "metadata": {
    "collapsed": true,
    "jupyter": {
     "outputs_hidden": true,
     "source_hidden": true
    },
    "tags": []
   },
   "outputs": [
    {
     "name": "stdout",
     "output_type": "stream",
     "text": [
      "bash: /Users/marcusvillena/miniconda.sh: No such file or directory\n",
      "zsh:source:1: no such file or directory: /Users/marcusvillena/miniconda/bin/activate\n",
      "Collecting package metadata (current_repodata.json): done\n",
      "Solving environment: failed with initial frozen solve. Retrying with flexible solve.\n",
      "Collecting package metadata (repodata.json): done\n",
      "Solving environment: failed with initial frozen solve. Retrying with flexible solve.\n",
      "\n",
      "PackagesNotFoundError: The following packages are not available from current channels:\n",
      "\n",
      "  - tensorflow-deps\n",
      "\n",
      "Current channels:\n",
      "\n",
      "  - https://conda.anaconda.org/apple/osx-64\n",
      "  - https://conda.anaconda.org/apple/noarch\n",
      "  - https://repo.anaconda.com/pkgs/main/osx-64\n",
      "  - https://repo.anaconda.com/pkgs/main/noarch\n",
      "  - https://repo.anaconda.com/pkgs/r/osx-64\n",
      "  - https://repo.anaconda.com/pkgs/r/noarch\n",
      "\n",
      "To search for alternate channels that may provide the conda package you're\n",
      "looking for, navigate to\n",
      "\n",
      "    https://anaconda.org\n",
      "\n",
      "and use the search bar at the top of the page.\n",
      "\n",
      "\n"
     ]
    }
   ],
   "source": [
    "!bash ~/miniconda.sh -b -p $HOME/miniconda\n",
    "!source ~/miniconda/bin/activate\n",
    "!conda install -c apple tensorflow-deps"
   ]
  },
  {
   "cell_type": "markdown",
   "id": "97b1bc98-1ecd-4510-9b25-c3c8a5b5e9ab",
   "metadata": {},
   "source": [
    "# Lecture Notes"
   ]
  },
  {
   "cell_type": "markdown",
   "id": "f8c2836c-9211-4a9b-88f0-9549dee6366d",
   "metadata": {},
   "source": [
    "* You can use `tensorflow` package to create and train a neural network\n",
    "* To use tensorflow you need to first set a seed. It ensures that your model always returns the same results."
   ]
  },
  {
   "cell_type": "code",
   "execution_count": 3,
   "id": "51a9b219-9922-4e85-84ae-11e6c36fd75e",
   "metadata": {
    "tags": []
   },
   "outputs": [],
   "source": [
    "import tensorflow as tf\n",
    "tf.random.set_seed(1)"
   ]
  },
  {
   "cell_type": "markdown",
   "id": "18bd5337-fc18-4384-94a5-e2a2ceaafbd2",
   "metadata": {},
   "source": [
    " * To create the model you need to first define a model as a sequence of layers"
   ]
  },
  {
   "cell_type": "code",
   "execution_count": 5,
   "id": "6b61c5cc-f086-4203-9a49-3a2bb76f77ad",
   "metadata": {},
   "outputs": [],
   "source": [
    "from tensorflow.keras.models import Sequential\n",
    "model = Sequential()"
   ]
  },
  {
   "cell_type": "markdown",
   "id": "bbdd27f4-73ff-4e8c-a503-06b093633c61",
   "metadata": {},
   "source": [
    "\n",
    "* Then you can define the input and hidden layer and add them to the model:"
   ]
  },
  {
   "cell_type": "code",
   "execution_count": 6,
   "id": "f2f0cf32-3b79-43ef-9543-ada8f4f80450",
   "metadata": {},
   "outputs": [],
   "source": [
    "from tensorflow.keras.layers import Dense, InputLayer\n",
    "input_layer = InputLayer(input_shape=(2,))\n",
    "model.add(input_layer)\n",
    "hidden_layer = Dense(3)\n",
    "model.add(hidden_layer)"
   ]
  },
  {
   "cell_type": "markdown",
   "id": "7a0597da-a183-4fda-bc24-221a4720bcfc",
   "metadata": {},
   "source": [
    "* The number of input layer neurons (corresponding to 2 features) is determined using the `input_shape` argument, and the hidden layer has 3 neurons.\n",
    "<br>\n",
    "* You can also add additional hidden layers with different numbers of neurons."
   ]
  },
  {
   "cell_type": "code",
   "execution_count": 7,
   "id": "cebea19d-b7c3-4917-a8b8-b2cc37182bc4",
   "metadata": {},
   "outputs": [],
   "source": [
    "second_hidden_layer = Dense(5)\n",
    "model.add(second_hidden_layer)\n",
    "third_hidden_layer = Dense(2)\n",
    "model.add(third_hidden_layer)"
   ]
  },
  {
   "cell_type": "markdown",
   "id": "8843bdac-e4e3-4e8b-aa11-3412266b3df5",
   "metadata": {},
   "source": [
    "* Output layer is added at the last step\n",
    "    * **Note.** If your problem is regression you don't need to set an activation argument"
   ]
  },
  {
   "cell_type": "code",
   "execution_count": 8,
   "id": "dae8a051-a2fd-4fcc-9356-7f80f7f904aa",
   "metadata": {},
   "outputs": [],
   "source": [
    "output_layer = Dense(1, activation = 'sigmoid')\n",
    "model.add(output_layer)"
   ]
  },
  {
   "cell_type": "markdown",
   "id": "2cf8a1b7-c642-44f8-aa21-50bd4827f1cb",
   "metadata": {},
   "source": [
    "\n",
    "* After creating the model you should configure it using `compile` method"
   ]
  },
  {
   "cell_type": "code",
   "execution_count": 9,
   "id": "2e4036ee-7369-4bd8-9671-6280aad6348e",
   "metadata": {},
   "outputs": [],
   "source": [
    "model.compile(loss='binary_crossentropy')"
   ]
  },
  {
   "cell_type": "markdown",
   "id": "57138a28-02d8-47b2-af3d-bbf743a5aaa2",
   "metadata": {},
   "source": [
    "* `binary_crossentropy` is a loss function that is minimized in the training process. It is an appropriate choice for classification with two classes.\n",
    "* Other common choices are:\n",
    "    * `categorical_crossentropy` for classification with multiple classes.\n",
    "    * `mean_absolute_error` for regression problems.\n",
    "\n",
    " <br><br><br>\n"
   ]
  },
  {
   "cell_type": "markdown",
   "id": "627c2302-692d-42bd-b639-2dd7181c3e44",
   "metadata": {},
   "source": [
    "* Training of the model is done using `fit` method"
   ]
  },
  {
   "cell_type": "code",
   "execution_count": 15,
   "id": "96ba616d-a1c5-430d-9b36-f674d1e11581",
   "metadata": {
    "collapsed": true,
    "jupyter": {
     "outputs_hidden": true
    },
    "tags": []
   },
   "outputs": [
    {
     "name": "stdout",
     "output_type": "stream",
     "text": [
      "Epoch 1/10\n",
      "12/12 [==============================] - 0s 8ms/step - loss: 0.5028\n",
      "Epoch 2/10\n",
      "12/12 [==============================] - 0s 8ms/step - loss: 0.5017\n",
      "Epoch 3/10\n",
      "12/12 [==============================] - 0s 8ms/step - loss: 0.5015\n",
      "Epoch 4/10\n",
      "12/12 [==============================] - 0s 8ms/step - loss: 0.5018\n",
      "Epoch 5/10\n",
      "12/12 [==============================] - 0s 8ms/step - loss: 0.5019\n",
      "Epoch 6/10\n",
      "12/12 [==============================] - 0s 8ms/step - loss: 0.5010\n",
      "Epoch 7/10\n",
      "12/12 [==============================] - 0s 8ms/step - loss: 0.5017\n",
      "Epoch 8/10\n",
      "12/12 [==============================] - 0s 8ms/step - loss: 0.5006\n",
      "Epoch 9/10\n",
      "12/12 [==============================] - 0s 8ms/step - loss: 0.5036\n",
      "Epoch 10/10\n",
      "12/12 [==============================] - 0s 8ms/step - loss: 0.5024\n"
     ]
    },
    {
     "data": {
      "text/plain": [
       "<keras.callbacks.History at 0x15fb6dac0>"
      ]
     },
     "execution_count": 15,
     "metadata": {},
     "output_type": "execute_result"
    }
   ],
   "source": [
    "import pandas as pd\n",
    "data = pd.read_csv('data_science_score.csv')\n",
    "\n",
    "X = data.loc[:, ['Theoretical knowledge', 'Programming skill']]\n",
    "y = data.loc[:, ['Class']]\n",
    "\n",
    "model.fit(X, y, epochs=10)"
   ]
  },
  {
   "cell_type": "markdown",
   "id": "6a1d4799-bf58-4896-a69b-f43e556ff4dc",
   "metadata": {},
   "source": [
    "  <br><br><br>\n",
    "\n",
    "* Finally you can predict the class of new data samples."
   ]
  },
  {
   "cell_type": "code",
   "execution_count": 25,
   "id": "0cc5a3da-a311-4dc0-b84d-7374b1c6d572",
   "metadata": {},
   "outputs": [
    {
     "name": "stdout",
     "output_type": "stream",
     "text": [
      "1/1 [==============================] - 0s 115ms/step\n",
      "[[0.9018012 ]\n",
      " [0.27099553]\n",
      " [0.27099553]]\n"
     ]
    }
   ],
   "source": [
    "new_samples = [[10, 4], [1,10], [1,10]]\n",
    "predictions = model.predict(new_samples)\n",
    "print(predictions)"
   ]
  },
  {
   "cell_type": "code",
   "execution_count": 26,
   "id": "72ec3f9b-1a51-458a-a5c0-768a08743f4e",
   "metadata": {},
   "outputs": [
    {
     "data": {
      "text/plain": [
       "0.75"
      ]
     },
     "execution_count": 26,
     "metadata": {},
     "output_type": "execute_result"
    }
   ],
   "source": [
    "from sklearn.metrics import precision_score, recall_score, f1_score, roc_auc_score\n",
    "roc_auc_score([1,0,1], predictions)"
   ]
  },
  {
   "cell_type": "markdown",
   "id": "24c8bc5f-c332-4917-8309-540b40ac67bb",
   "metadata": {},
   "source": [
    " * It returns the probability of class 1 for each sample.\n",
    " \n",
    "  <br><br><br>"
   ]
  },
  {
   "cell_type": "markdown",
   "id": "9ab1262a-499f-4d4f-a160-b6e5d5ee6b6e",
   "metadata": {},
   "source": [
    "# Example: Iris classification"
   ]
  },
  {
   "cell_type": "markdown",
   "id": "5caf71a9-3920-4a43-9bcb-571dc9b3ef94",
   "metadata": {},
   "source": [
    "* Now consider the iris classification problem. There are three different classes of setosa, versicolor, and virginica.\n",
    "* To use a neural network for such a problem we first need to break it into the binary classifications.\n",
    "    1. Is the sample a setosa or not?\n",
    "    2. Is the sample a versicolor or not?\n",
    "    3. Is the sample a virginica or not?\n",
    "* So we need to first convert the outcome.\n",
    "<br><br><br>\n",
    "* We can use `LabelEncoder` in `sklearn` package and `to_categorical` in `keras` package to encode each outcome value into a list of 3 binary values."
   ]
  },
  {
   "cell_type": "code",
   "execution_count": 7,
   "id": "88d1d216-14e9-4506-8d32-9413027b1856",
   "metadata": {},
   "outputs": [
    {
     "name": "stdout",
     "output_type": "stream",
     "text": [
      "fit_transform output only: \n",
      " [0 1 2 1] \n",
      "\n",
      "to_categorical output: \n",
      " [[1. 0. 0.]\n",
      " [0. 1. 0.]\n",
      " [0. 0. 1.]\n",
      " [0. 1. 0.]]\n"
     ]
    }
   ],
   "source": [
    "from tensorflow.keras.utils import to_categorical\n",
    "from sklearn.preprocessing import LabelEncoder\n",
    "\n",
    "y = ['sertosa', 'versicolor', 'virginica', 'versicolor']\n",
    "\n",
    "encoder = LabelEncoder()\n",
    "y = encoder.fit_transform(y)\n",
    "print(\"fit_transform output only: \\n\", y, \"\\n\")\n",
    "\n",
    "y = to_categorical(y)\n",
    "print(\"to_categorical output: \\n\", y)"
   ]
  },
  {
   "cell_type": "markdown",
   "id": "d558cdf7-b622-4035-8cee-a193cbbb0a11",
   "metadata": {},
   "source": [
    "<br>\n",
    "\n",
    "* After encoding the outcome you can creaate the model\n",
    "    * For each sample we have three outcomes, so the output layer must include 3 neurons.\n",
    "    * Each neuron obtains a value for one class using a linear combination of its inputs.\n",
    "    * Finally **softmax** function uses these values to assign a probability to each of the classes.\n",
    "    * This function is an alternative to the sigmoid function in classification problems with more than 2 classes."
   ]
  },
  {
   "cell_type": "code",
   "execution_count": 8,
   "id": "c69e5076-f95b-4751-b67b-eb131fa86f83",
   "metadata": {},
   "outputs": [],
   "source": [
    "from tensorflow.keras.models import Sequential\n",
    "from tensorflow.keras.layers import Dense, InputLayer\n",
    "\n",
    "model = Sequential()\n",
    "\n",
    "model.add(\n",
    "    InputLayer(\n",
    "        input_shape=(4,)))\n",
    "\n",
    "model.add(\n",
    "    Dense(8))\n",
    "\n",
    "model.add(\n",
    "    Dense(\n",
    "        3,\n",
    "        activation = 'softmax'))"
   ]
  },
  {
   "cell_type": "markdown",
   "id": "a9e71132-4b70-4c10-88b5-e0454d827c5b",
   "metadata": {},
   "source": [
    "<br>\n",
    "\n",
    "### Example: Iris classification (final code):"
   ]
  },
  {
   "cell_type": "code",
   "execution_count": 18,
   "id": "81943536-786a-4659-a172-90244fedda55",
   "metadata": {},
   "outputs": [
    {
     "name": "stdout",
     "output_type": "stream",
     "text": [
      "4/4 [==============================] - 0s 15ms/step - loss: 0.9602\n"
     ]
    },
    {
     "name": "stderr",
     "output_type": "stream",
     "text": [
      "2022-11-10 09:11:22.229902: I tensorflow/core/grappler/optimizers/custom_graph_optimizer_registry.cc:114] Plugin optimizer for device_type GPU is enabled.\n"
     ]
    },
    {
     "data": {
      "text/plain": [
       "<keras.callbacks.History at 0x1574b96a0>"
      ]
     },
     "execution_count": 18,
     "metadata": {},
     "output_type": "execute_result"
    }
   ],
   "source": [
    "from sklearn import datasets\n",
    "from sklearn.model_selection import train_test_split\n",
    "from tensorflow.keras.models import Sequential\n",
    "from tensorflow.keras.layers import Dense, InputLayer\n",
    "from tensorflow.keras.utils import to_categorical\n",
    "\n",
    "iris = datasets.load_iris()\n",
    "X = iris.data\n",
    "y = iris.target\n",
    "\n",
    "y = to_categorical(y)\n",
    "\n",
    "X_train, X_test, y_train, y_test = train_test_split(X, y, test_size = 0.33)\n",
    "\n",
    "model = Sequential()\n",
    "\n",
    "model.add(\n",
    "    InputLayer(\n",
    "        input_shape=(4,)))\n",
    "\n",
    "model.add(\n",
    "    Dense(8))\n",
    "\n",
    "model.add(\n",
    "    Dense(3, activation = 'softmax'))\n",
    "\n",
    "model.compile(loss = 'categorical_crossentropy')\n",
    "model.fit(X_train, y_train)"
   ]
  },
  {
   "cell_type": "markdown",
   "id": "6b5ab926-199e-4a4e-b083-65377bd69177",
   "metadata": {},
   "source": [
    "<br>\n",
    "\n",
    "* Using `predict` with this model we can obtain the probability of each of the three classes for each sample.\n",
    "* The class with the greatest probability is selected as the sample class."
   ]
  },
  {
   "cell_type": "code",
   "execution_count": 16,
   "id": "8f5f1ba7-1a32-4896-a876-e51b4b87b07e",
   "metadata": {
    "collapsed": true,
    "jupyter": {
     "outputs_hidden": true
    },
    "tags": []
   },
   "outputs": [
    {
     "name": "stdout",
     "output_type": "stream",
     "text": [
      "2/2 [==============================] - 0s 4ms/step\n",
      "[[2.7130116e-03 1.6068180e-01 8.3660525e-01]\n",
      " [1.0659104e-03 4.6380732e-02 9.5255339e-01]\n",
      " [3.5052004e-03 1.9123439e-01 8.0526036e-01]\n",
      " [9.6058246e-04 3.5840515e-02 9.6319890e-01]\n",
      " [5.8103609e-04 2.3947569e-02 9.7547138e-01]\n",
      " [5.2310461e-03 1.5879881e-01 8.3597016e-01]\n",
      " [3.5187204e-03 8.7108165e-02 9.0937316e-01]\n",
      " [5.6369212e-03 1.8069714e-01 8.1366587e-01]\n",
      " [1.7989579e-03 1.8980572e-02 9.7922051e-01]\n",
      " [3.5566173e-04 1.0235693e-02 9.8940873e-01]\n",
      " [2.0393590e-03 1.5175998e-01 8.4620064e-01]\n",
      " [5.9326296e-04 4.0598441e-02 9.5880830e-01]\n",
      " [4.9338276e-03 1.8019781e-01 8.1486839e-01]\n",
      " [1.6961087e-03 1.6054856e-02 9.8224902e-01]\n",
      " [2.2490295e-03 2.6910808e-02 9.7084010e-01]\n",
      " [1.1637800e-03 3.9889086e-02 9.5894718e-01]\n",
      " [2.0662909e-03 3.2786727e-02 9.6514702e-01]\n",
      " [4.0559444e-04 3.5200946e-02 9.6439350e-01]\n",
      " [7.5822687e-03 1.9900332e-01 7.9341435e-01]\n",
      " [3.6507039e-03 1.7283407e-01 8.2351524e-01]\n",
      " [6.1573419e-03 1.7023392e-01 8.2360876e-01]\n",
      " [6.3265488e-04 4.2033207e-02 9.5733404e-01]\n",
      " [3.1104831e-03 1.9189124e-01 8.0499834e-01]\n",
      " [8.6137909e-04 1.6872684e-02 9.8226595e-01]\n",
      " [8.0077525e-04 2.2255151e-02 9.7694403e-01]\n",
      " [5.3942914e-04 3.9523274e-02 9.5993733e-01]\n",
      " [3.9747781e-03 1.8359064e-01 8.1243461e-01]\n",
      " [4.2568450e-03 2.0270391e-01 7.9303932e-01]\n",
      " [3.0023055e-03 5.3226948e-02 9.4377077e-01]\n",
      " [6.4198737e-04 3.7890632e-02 9.6146739e-01]\n",
      " [4.4639796e-04 3.7798017e-02 9.6175557e-01]\n",
      " [4.2083738e-03 1.7286202e-01 8.2292974e-01]\n",
      " [1.9109972e-04 1.4626704e-02 9.8518223e-01]\n",
      " [1.4763009e-03 4.5811310e-02 9.5271242e-01]\n",
      " [2.6617046e-03 1.4431947e-01 8.5301888e-01]\n",
      " [1.8128497e-03 3.3182018e-02 9.6500510e-01]\n",
      " [1.9360122e-03 6.5582447e-02 9.3248159e-01]\n",
      " [7.4126446e-03 1.9830209e-01 7.9428536e-01]\n",
      " [1.5128676e-03 1.4158269e-02 9.8432887e-01]\n",
      " [1.6583345e-03 4.1528948e-02 9.5681274e-01]\n",
      " [1.1351637e-03 3.3580493e-02 9.6528441e-01]\n",
      " [2.2487633e-03 2.7880495e-02 9.6987075e-01]\n",
      " [4.0956973e-03 1.9397572e-01 8.0192864e-01]\n",
      " [1.4639173e-04 1.3434340e-02 9.8641926e-01]\n",
      " [2.2192488e-03 5.6539204e-02 9.4124156e-01]\n",
      " [5.0677324e-04 1.8030562e-02 9.8146272e-01]\n",
      " [1.3647589e-03 2.3609022e-02 9.7502613e-01]\n",
      " [9.1206643e-04 1.8398644e-02 9.8068923e-01]\n",
      " [3.7133039e-03 1.8016113e-01 8.1612569e-01]\n",
      " [1.0020363e-03 2.3471102e-02 9.7552687e-01]]\n"
     ]
    }
   ],
   "source": [
    "predictions = model.predict(X_test)\n",
    "print(predictions)"
   ]
  },
  {
   "cell_type": "code",
   "execution_count": 17,
   "id": "845d2960-1d20-4098-ab38-fc6c28386ad5",
   "metadata": {},
   "outputs": [
    {
     "data": {
      "text/plain": [
       "0.8135212418300654"
      ]
     },
     "execution_count": 17,
     "metadata": {},
     "output_type": "execute_result"
    }
   ],
   "source": [
    "from sklearn.metrics import precision_score, recall_score, f1_score, roc_auc_score\n",
    "\n",
    "#use roc_auc_score() for binary classification\n",
    "roc_auc_score(y_test, predictions)"
   ]
  },
  {
   "cell_type": "markdown",
   "id": "c6f2b311-42ad-4dcf-b10f-613370035420",
   "metadata": {},
   "source": [
    "<br>\n",
    "\n",
    "# Image Recognition"
   ]
  },
  {
   "cell_type": "markdown",
   "id": "09e84bbf-7e5c-4975-872e-b06b4fdb14eb",
   "metadata": {},
   "source": [
    "* ...\n",
    "* In practice, images can be represented using a matrix of numbers (2 dimensional array or list of lists). Each number in the matrix encodes the color of one of the pixels in the image.\n",
    "* For a gray scale images these numbers can be in range 0 to 16 for example, to represent the colors between black(0) and white(16).\n",
    "* See an example:"
   ]
  },
  {
   "cell_type": "code",
   "execution_count": 10,
   "id": "59677774-b219-4fc7-9100-e79d1008eac0",
   "metadata": {},
   "outputs": [
    {
     "data": {
      "text/plain": [
       "<Figure size 640x480 with 0 Axes>"
      ]
     },
     "metadata": {},
     "output_type": "display_data"
    },
    {
     "data": {
      "image/png": "[encoded data removed]",
      "text/plain": [
       "<Figure size 480x480 with 1 Axes>"
      ]
     },
     "metadata": {},
     "output_type": "display_data"
    }
   ],
   "source": [
    "import matplotlib.pyplot as plt\n",
    "\n",
    "image = [[0, 0, 5, 13],\n",
    "         [0, 0, 13, 15],\n",
    "         [0, 3, 15, 2],\n",
    "         [0, 4, 12, 0]]\n",
    "plt.gray()\n",
    "plt.matshow(image)\n",
    "plt.show()"
   ]
  },
  {
   "cell_type": "markdown",
   "id": "fbec66b5-04d9-4e9c-a946-e17eb872ac69",
   "metadata": {},
   "source": [
    "<br>\n",
    "\n",
    "* `sklearn` package includes an image dataset of the handwritten digits.\n",
    "* Each image has 8 × 8 = 64 pixels and is labeled with its corresponding digit (0 to 9).\n",
    "* This data can be load in python as below:"
   ]
  },
  {
   "cell_type": "code",
   "execution_count": 11,
   "id": "52b3e2d8-9536-479e-8139-3a0a98942dd2",
   "metadata": {},
   "outputs": [
    {
     "name": "stdout",
     "output_type": "stream",
     "text": [
      "X[0]: \n",
      " [ 0.  0.  5. 13.  9.  1.  0.  0.  0.  0. 13. 15. 10. 15.  5.  0.  0.  3.\n",
      " 15.  2.  0. 11.  8.  0.  0.  4. 12.  0.  0.  8.  8.  0.  0.  5.  8.  0.\n",
      "  0.  9.  8.  0.  0.  4. 11.  0.  1. 12.  7.  0.  0.  2. 14.  5. 10. 12.\n",
      "  0.  0.  0.  0.  6. 13. 10.  0.  0.  0.] \n",
      "\n",
      "y[0]: \n",
      " 0\n"
     ]
    }
   ],
   "source": [
    "from sklearn import datasets\n",
    "\n",
    "digits = datasets.load_digits()\n",
    "\n",
    "images = digits.images\n",
    "X = digits.data\n",
    "y = digits.target\n",
    "\n",
    "print(\"X[0]: \\n\", X[0],\"\\n\")\n",
    "print(\"y[0]: \\n\", y[0])\n"
   ]
  },
  {
   "cell_type": "markdown",
   "id": "8e875a68-a789-4fa6-9bed-8d98ac6d382a",
   "metadata": {},
   "source": [
    "* `X` includes the list of 64 features for each sample(image) in the data, and `y` includes the label.\n",
    "* You can also get the image matrix and plot the image as below:"
   ]
  },
  {
   "cell_type": "code",
   "execution_count": 17,
   "id": "77c49c3e-7e05-4611-b6ba-b73292c1202b",
   "metadata": {},
   "outputs": [
    {
     "data": {
      "text/plain": [
       "<Figure size 640x480 with 0 Axes>"
      ]
     },
     "metadata": {},
     "output_type": "display_data"
    },
    {
     "data": {
      "image/png": "[encoded data removed]",
      "text/plain": [
       "<Figure size 480x480 with 1 Axes>"
      ]
     },
     "metadata": {},
     "output_type": "display_data"
    }
   ],
   "source": [
    "import matplotlib.pyplot as plt\n",
    "\n",
    "images = digits.images\n",
    "\n",
    "plt.gray()\n",
    "plt.matshow(images[0])\n",
    "plt.show()"
   ]
  },
  {
   "cell_type": "markdown",
   "id": "263219f0-8cdc-4b23-bde9-2446526e04ba",
   "metadata": {},
   "source": [
    "* `images` is the list of image matrices\n",
    "* Note that the values of the image matrix and the values of the feature list are the same.\n",
    "\n",
    "<br><br><br>"
   ]
  },
  {
   "cell_type": "markdown",
   "id": "79fa70b1-c46d-49ed-9411-f71e2e6e20ff",
   "metadata": {},
   "source": [
    "### Example: Digit image classification\n",
    "* Lets train a neural network model to classify the digit images in one of the ten classes (0 to 9).\n",
    "* The input layer should include 64 neurons and output layer 10 neurons."
   ]
  },
  {
   "cell_type": "code",
   "execution_count": 66,
   "id": "774b711c-dea4-4bc2-b7c5-7414266229d3",
   "metadata": {},
   "outputs": [],
   "source": [
    "from sklearn import datasets\n",
    "\n",
    "digits = datasets.load_digits()\n",
    "\n",
    "images = digits.images\n",
    "X = digits.data\n",
    "y = digits.target"
   ]
  },
  {
   "cell_type": "code",
   "execution_count": 67,
   "id": "233712e2-7b7a-4fa9-bfaa-e93d94b1523d",
   "metadata": {},
   "outputs": [],
   "source": [
    "import tensorflow as tf\n",
    "from tensorflow.keras.models import Sequential\n",
    "from tensorflow.keras.layers import Dense, InputLayer\n",
    "\n",
    "tf.random.set_seed(1)\n",
    "model = Sequential()\n",
    "\n",
    "input_layer = InputLayer(input_shape=(64,))\n",
    "model.add(input_layer)\n",
    "\n",
    "hidden_layer = Dense(5)\n",
    "model.add(hidden_layer)\n",
    "\n",
    "output_layer = Dense(10, activation='softmax')\n",
    "model.add(output_layer)"
   ]
  },
  {
   "cell_type": "markdown",
   "id": "6950c805-8bff-4d3a-a664-b56b4b85bd49",
   "metadata": {},
   "source": [
    "* To train the model we first need to convert the digit labels to 10 binary values using to categorical function."
   ]
  },
  {
   "cell_type": "code",
   "execution_count": 68,
   "id": "6b25cea4-a6b2-4ef2-8280-4358917291d0",
   "metadata": {},
   "outputs": [],
   "source": [
    "from tensorflow.keras.utils import to_categorical\n",
    "\n",
    "y = to_categorical(y)"
   ]
  },
  {
   "cell_type": "markdown",
   "id": "fa070d39-526a-4ef3-91f1-fcacb31f2e51",
   "metadata": {},
   "source": [
    "* Then the model can be trained"
   ]
  },
  {
   "cell_type": "code",
   "execution_count": 86,
   "id": "46b5e62f-7d55-4824-8c26-5b0dd628ad6b",
   "metadata": {
    "tags": []
   },
   "outputs": [
    {
     "name": "stdout",
     "output_type": "stream",
     "text": [
      "Epoch 1/10\n",
      " 4/45 [=>............................] - ETA: 0s - loss: 0.7502 - accuracy: 0.7656 "
     ]
    },
    {
     "name": "stderr",
     "output_type": "stream",
     "text": [
      "2022-11-15 08:47:20.321072: I tensorflow/core/grappler/optimizers/custom_graph_optimizer_registry.cc:114] Plugin optimizer for device_type GPU is enabled.\n"
     ]
    },
    {
     "name": "stdout",
     "output_type": "stream",
     "text": [
      "45/45 [==============================] - 1s 12ms/step - loss: 0.4270 - accuracy: 0.8664\n",
      "Epoch 2/10\n",
      "45/45 [==============================] - 0s 11ms/step - loss: 0.3778 - accuracy: 0.8803\n",
      "Epoch 3/10\n",
      "45/45 [==============================] - 0s 10ms/step - loss: 0.3583 - accuracy: 0.8921\n",
      "Epoch 4/10\n",
      "45/45 [==============================] - 0s 10ms/step - loss: 0.3325 - accuracy: 0.8970\n",
      "Epoch 5/10\n",
      "45/45 [==============================] - 0s 11ms/step - loss: 0.3152 - accuracy: 0.9033\n",
      "Epoch 6/10\n",
      "45/45 [==============================] - 0s 10ms/step - loss: 0.2969 - accuracy: 0.9151\n",
      "Epoch 7/10\n",
      "45/45 [==============================] - 0s 10ms/step - loss: 0.2831 - accuracy: 0.9179\n",
      "Epoch 8/10\n",
      "45/45 [==============================] - 0s 10ms/step - loss: 0.2685 - accuracy: 0.9235\n",
      "Epoch 9/10\n",
      "45/45 [==============================] - 0s 10ms/step - loss: 0.2556 - accuracy: 0.9255\n",
      "Epoch 10/10\n",
      "45/45 [==============================] - 0s 10ms/step - loss: 0.2452 - accuracy: 0.9290\n",
      "1797\n",
      "1437\n",
      "360\n",
      "12/12 [==============================] - 0s 10ms/step - loss: 0.3212 - accuracy: 0.9111\n",
      "[0.32124045491218567, 0.9111111164093018]\n"
     ]
    },
    {
     "name": "stderr",
     "output_type": "stream",
     "text": [
      "2022-11-15 08:47:25.244048: I tensorflow/core/grappler/optimizers/custom_graph_optimizer_registry.cc:114] Plugin optimizer for device_type GPU is enabled.\n"
     ]
    }
   ],
   "source": [
    "from sklearn.model_selection import train_test_split\n",
    "\n",
    "X_train, X_test, y_train, y_test = train_test_split(X, y, test_size = 0.2)\n",
    "\n",
    "model.compile(loss = 'categorical_crossentropy', metrics = ['accuracy'])\n",
    "model.fit(X_train, y_train, epochs = 10)\n",
    "\n",
    "print(len(y))\n",
    "print(len(y_train))\n",
    "print(len(y_test))\n",
    "\n",
    "performance = model.evaluate(X_test, y_test)\n",
    "print(performance)"
   ]
  },
  {
   "cell_type": "markdown",
   "id": "7f1ca440-9c2a-47ea-91b4-40ece6d8fb59",
   "metadata": {},
   "source": [
    "* We set the `metrics` argument to check the `accuracy` of the model.\n",
    "\n",
    "<br><br><br>\n",
    "\n",
    "* We can evaluate the model performance on the testing set using the `evaluate` method.\n",
    "* It returns a list with two items. The first item is the value of the loss function, and the second is the accuracy of the model (between 0 and 1)."
   ]
  },
  {
   "cell_type": "code",
   "execution_count": 57,
   "id": "94a19f9c-c223-4841-b4da-16e98e1d30d2",
   "metadata": {},
   "outputs": [
    {
     "name": "stdout",
     "output_type": "stream",
     "text": [
      "11/56 [====>.........................] - ETA: 0s - loss: 0.3027 - accuracy: 0.8892"
     ]
    },
    {
     "name": "stderr",
     "output_type": "stream",
     "text": [
      "2022-11-15 08:39:30.195752: I tensorflow/core/grappler/optimizers/custom_graph_optimizer_registry.cc:114] Plugin optimizer for device_type GPU is enabled.\n"
     ]
    },
    {
     "name": "stdout",
     "output_type": "stream",
     "text": [
      "56/56 [==============================] - 1s 9ms/step - loss: 0.2911 - accuracy: 0.9011\n",
      "[0.29109105467796326, 0.901123583316803]\n"
     ]
    }
   ],
   "source": [
    "performance = model.evaluate(X_test, y_test)\n",
    "print(performance)"
   ]
  },
  {
   "cell_type": "code",
   "execution_count": 87,
   "id": "cb74fb7f-006c-49bf-a964-d1f7015abfa8",
   "metadata": {},
   "outputs": [
    {
     "name": "stdout",
     "output_type": "stream",
     "text": [
      "1/1 [==============================] - 0s 34ms/step - loss: 0.0168 - accuracy: 1.0000\n",
      "[[ 0.  0.  3. 14.  3.  0.  0.  0.  0.  0. 13. 13.  0.  0.  0.  0.  0.  0.\n",
      "  16.  7.  0.  0.  0.  0.  0.  5. 16.  3.  0.  0.  0.  0.  0.  3. 16.  7.\n",
      "   4.  2.  0.  0.  0.  4. 16. 16. 16. 16.  7.  0.  0.  1. 14. 15.  4. 11.\n",
      "  15.  0.  0.  0.  5. 14. 16. 12.  6.  0.]]\n"
     ]
    }
   ],
   "source": [
    "performance = model.evaluate(X_test[[0]], y_test[[0]])\n",
    "\n",
    "print(X_test[[0]])"
   ]
  },
  {
   "cell_type": "code",
   "execution_count": 108,
   "id": "9b0cdbc1-c98d-45cb-a434-6c7db0547847",
   "metadata": {},
   "outputs": [
    {
     "data": {
      "text/plain": [
       "<Figure size 640x480 with 0 Axes>"
      ]
     },
     "metadata": {},
     "output_type": "display_data"
    },
    {
     "data": {
      "image/png": "[encoded data removed]",
      "text/plain": [
       "<Figure size 480x480 with 1 Axes>"
      ]
     },
     "metadata": {},
     "output_type": "display_data"
    },
    {
     "name": "stdout",
     "output_type": "stream",
     "text": [
      "[[ 0.  0.  3. 14.  3.  0.  0.  0.]\n",
      " [ 0.  0. 13. 13.  0.  0.  0.  0.]\n",
      " [ 0.  0. 16.  7.  0.  0.  0.  0.]\n",
      " [ 0.  5. 16.  3.  0.  0.  0.  0.]\n",
      " [ 0.  3. 16.  7.  4.  2.  0.  0.]\n",
      " [ 0.  4. 16. 16. 16. 16.  7.  0.]\n",
      " [ 0.  1. 14. 15.  4. 11. 15.  0.]\n",
      " [ 0.  0.  5. 14. 16. 12.  6.  0.]]\n"
     ]
    }
   ],
   "source": [
    "plt.gray()\n",
    "plt.matshow(X_test[[0]].reshape(8,8))\n",
    "plt.show()\n",
    "\n",
    "print(X_test[[0]].reshape(8,8))"
   ]
  },
  {
   "cell_type": "code",
   "execution_count": 151,
   "id": "16c3b9fe-0c80-4bb6-97d5-3fbbc519b8da",
   "metadata": {},
   "outputs": [
    {
     "data": {
      "text/plain": [
       "<Figure size 640x480 with 0 Axes>"
      ]
     },
     "metadata": {},
     "output_type": "display_data"
    },
    {
     "data": {
      "image/png": "[encoded data removed]",
      "text/plain": [
       "<Figure size 480x480 with 1 Axes>"
      ]
     },
     "metadata": {},
     "output_type": "display_data"
    }
   ],
   "source": [
    "X7 = [[0, 0, 0, 0, 0, 0, 0, 0],\n",
    "         [0, 0, 1, 1, 1, 1, 0, 0],\n",
    "         [0, 0, 0, 0, 0, 1, 0, 0],\n",
    "         [0, 0, 0, 0, 0, 1, 0, 0],\n",
    "         [0, 0, 0, 0, 0, 1, 0, 0],\n",
    "         [0, 0, 0, 0, 0, 1, 0, 0],\n",
    "         [0, 0, 0, 0, 0, 1, 0, 0],\n",
    "         [0, 0, 0, 0, 0, 0, 0, 0]]\n",
    "\n",
    "y7 = [0,0,0,0,0,0,1,0]\n",
    "\n",
    "plt.gray()\n",
    "plt.matshow(X7)\n",
    "plt.show()"
   ]
  },
  {
   "cell_type": "code",
   "execution_count": 149,
   "id": "babfae9b-b1bd-4001-a1fa-6b4b06470355",
   "metadata": {},
   "outputs": [
    {
     "name": "stdout",
     "output_type": "stream",
     "text": [
      "1/1 [==============================] - 0s 24ms/step - loss: 0.0168 - accuracy: 1.0000\n",
      "[[ 0.  0.  3. 14.  3.  0.  0.  0.  0.  0. 13. 13.  0.  0.  0.  0.  0.  0.\n",
      "  16.  7.  0.  0.  0.  0.  0.  5. 16.  3.  0.  0.  0.  0.  0.  3. 16.  7.\n",
      "   4.  2.  0.  0.  0.  4. 16. 16. 16. 16.  7.  0.  0.  1. 14. 15.  4. 11.\n",
      "  15.  0.  0.  0.  5. 14. 16. 12.  6.  0.]]\n",
      "[[0. 0. 0. 0. 0. 0. 1. 0. 0. 0.]]\n"
     ]
    }
   ],
   "source": [
    "performance = model.evaluate(X_test[[0]], y_test[[0]])\n",
    "\n",
    "print(X_test[[0]])\n",
    "print(y_test[[0]])"
   ]
  },
  {
   "cell_type": "code",
   "execution_count": 152,
   "id": "566e31d3-e7c4-415f-a739-307dac55136f",
   "metadata": {},
   "outputs": [
    {
     "name": "stdout",
     "output_type": "stream",
     "text": [
      "[[0 0 0 0 0 0 0 0]\n",
      " [0 0 1 1 1 1 0 0]\n",
      " [0 0 0 0 0 1 0 0]\n",
      " [0 0 0 0 0 1 0 0]\n",
      " [0 0 0 0 0 1 0 0]\n",
      " [0 0 0 0 0 1 0 0]\n",
      " [0 0 0 0 0 1 0 0]\n",
      " [0 0 0 0 0 0 0 0]]\n",
      "[0 0 0 0 0 0 1 0]\n"
     ]
    },
    {
     "ename": "ValueError",
     "evalue": "in user code:\n\n    File \"/Users/marcusvillena/miniconda3/envs/tensorflow/lib/python3.9/site-packages/keras/engine/training.py\", line 1727, in test_function  *\n        return step_function(self, iterator)\n    File \"/Users/marcusvillena/miniconda3/envs/tensorflow/lib/python3.9/site-packages/keras/engine/training.py\", line 1713, in step_function  **\n        outputs = model.distribute_strategy.run(run_step, args=(data,))\n    File \"/Users/marcusvillena/miniconda3/envs/tensorflow/lib/python3.9/site-packages/keras/engine/training.py\", line 1701, in run_step  **\n        outputs = model.test_step(data)\n    File \"/Users/marcusvillena/miniconda3/envs/tensorflow/lib/python3.9/site-packages/keras/engine/training.py\", line 1665, in test_step\n        y_pred = self(x, training=False)\n    File \"/Users/marcusvillena/miniconda3/envs/tensorflow/lib/python3.9/site-packages/keras/utils/traceback_utils.py\", line 70, in error_handler\n        raise e.with_traceback(filtered_tb) from None\n    File \"/Users/marcusvillena/miniconda3/envs/tensorflow/lib/python3.9/site-packages/keras/engine/input_spec.py\", line 295, in assert_input_compatibility\n        raise ValueError(\n\n    ValueError: Input 0 of layer \"sequential_2\" is incompatible with the layer: expected shape=(None, 64), found shape=(None, 8)\n",
     "output_type": "error",
     "traceback": [
      "\u001b[0;31m---------------------------------------------------------------------------\u001b[0m",
      "\u001b[0;31mValueError\u001b[0m                                Traceback (most recent call last)",
      "Cell \u001b[0;32mIn [152], line 12\u001b[0m\n\u001b[1;32m      8\u001b[0m \u001b[38;5;28mprint\u001b[39m(X7)\n\u001b[1;32m      9\u001b[0m \u001b[38;5;28mprint\u001b[39m(y7)\n\u001b[0;32m---> 12\u001b[0m performance \u001b[38;5;241m=\u001b[39m \u001b[43mmodel\u001b[49m\u001b[38;5;241;43m.\u001b[39;49m\u001b[43mevaluate\u001b[49m\u001b[43m(\u001b[49m\u001b[43m[\u001b[49m\u001b[43m[\u001b[49m\u001b[43mX7\u001b[49m\u001b[43m]\u001b[49m\u001b[43m]\u001b[49m\u001b[43m,\u001b[49m\u001b[43m \u001b[49m\u001b[43m[\u001b[49m\u001b[43m[\u001b[49m\u001b[43my7\u001b[49m\u001b[43m]\u001b[49m\u001b[43m]\u001b[49m\u001b[43m)\u001b[49m\n",
      "File \u001b[0;32m~/miniconda3/envs/tensorflow/lib/python3.9/site-packages/keras/utils/traceback_utils.py:70\u001b[0m, in \u001b[0;36mfilter_traceback.<locals>.error_handler\u001b[0;34m(*args, **kwargs)\u001b[0m\n\u001b[1;32m     67\u001b[0m     filtered_tb \u001b[38;5;241m=\u001b[39m _process_traceback_frames(e\u001b[38;5;241m.\u001b[39m__traceback__)\n\u001b[1;32m     68\u001b[0m     \u001b[38;5;66;03m# To get the full stack trace, call:\u001b[39;00m\n\u001b[1;32m     69\u001b[0m     \u001b[38;5;66;03m# `tf.debugging.disable_traceback_filtering()`\u001b[39;00m\n\u001b[0;32m---> 70\u001b[0m     \u001b[38;5;28;01mraise\u001b[39;00m e\u001b[38;5;241m.\u001b[39mwith_traceback(filtered_tb) \u001b[38;5;28;01mfrom\u001b[39;00m \u001b[38;5;28mNone\u001b[39m\n\u001b[1;32m     71\u001b[0m \u001b[38;5;28;01mfinally\u001b[39;00m:\n\u001b[1;32m     72\u001b[0m     \u001b[38;5;28;01mdel\u001b[39;00m filtered_tb\n",
      "File \u001b[0;32m/var/folders/wz/gr7z7mvd2vlg27d3y8x5dzwh0000gn/T/__autograph_generated_filefbpkkyse.py:15\u001b[0m, in \u001b[0;36mouter_factory.<locals>.inner_factory.<locals>.tf__test_function\u001b[0;34m(iterator)\u001b[0m\n\u001b[1;32m     13\u001b[0m \u001b[38;5;28;01mtry\u001b[39;00m:\n\u001b[1;32m     14\u001b[0m     do_return \u001b[38;5;241m=\u001b[39m \u001b[38;5;28;01mTrue\u001b[39;00m\n\u001b[0;32m---> 15\u001b[0m     retval_ \u001b[38;5;241m=\u001b[39m ag__\u001b[38;5;241m.\u001b[39mconverted_call(ag__\u001b[38;5;241m.\u001b[39mld(step_function), (ag__\u001b[38;5;241m.\u001b[39mld(\u001b[38;5;28mself\u001b[39m), ag__\u001b[38;5;241m.\u001b[39mld(iterator)), \u001b[38;5;28;01mNone\u001b[39;00m, fscope)\n\u001b[1;32m     16\u001b[0m \u001b[38;5;28;01mexcept\u001b[39;00m:\n\u001b[1;32m     17\u001b[0m     do_return \u001b[38;5;241m=\u001b[39m \u001b[38;5;28;01mFalse\u001b[39;00m\n",
      "\u001b[0;31mValueError\u001b[0m: in user code:\n\n    File \"/Users/marcusvillena/miniconda3/envs/tensorflow/lib/python3.9/site-packages/keras/engine/training.py\", line 1727, in test_function  *\n        return step_function(self, iterator)\n    File \"/Users/marcusvillena/miniconda3/envs/tensorflow/lib/python3.9/site-packages/keras/engine/training.py\", line 1713, in step_function  **\n        outputs = model.distribute_strategy.run(run_step, args=(data,))\n    File \"/Users/marcusvillena/miniconda3/envs/tensorflow/lib/python3.9/site-packages/keras/engine/training.py\", line 1701, in run_step  **\n        outputs = model.test_step(data)\n    File \"/Users/marcusvillena/miniconda3/envs/tensorflow/lib/python3.9/site-packages/keras/engine/training.py\", line 1665, in test_step\n        y_pred = self(x, training=False)\n    File \"/Users/marcusvillena/miniconda3/envs/tensorflow/lib/python3.9/site-packages/keras/utils/traceback_utils.py\", line 70, in error_handler\n        raise e.with_traceback(filtered_tb) from None\n    File \"/Users/marcusvillena/miniconda3/envs/tensorflow/lib/python3.9/site-packages/keras/engine/input_spec.py\", line 295, in assert_input_compatibility\n        raise ValueError(\n\n    ValueError: Input 0 of layer \"sequential_2\" is incompatible with the layer: expected shape=(None, 64), found shape=(None, 8)\n"
     ]
    }
   ],
   "source": [
    "#performance = model.evaluate([X7], [[0,0,0,0,0,0,1,0]])\n",
    "\n",
    "#print(X_test[[0]].reshape(8,8))\n",
    "#print(y_test[[0]])\n",
    "import numpy as np\n",
    "X7 = np.array(X7)\n",
    "y7 = np.array(y7)\n",
    "print(X7)\n",
    "print(y7)\n",
    "\n",
    "\n",
    "performance = model.evaluate([[X7]], [[y7]])\n"
   ]
  }
 ],
 "metadata": {
  "kernelspec": {
   "display_name": "Python 3.9 (tensorflow)",
   "language": "python",
   "name": "tensorflow"
  },
  "language_info": {
   "codemirror_mode": {
    "name": "ipython",
    "version": 3
   },
   "file_extension": ".py",
   "mimetype": "text/x-python",
   "name": "python",
   "nbconvert_exporter": "python",
   "pygments_lexer": "ipython3",
   "version": "3.9.13"
  }
 },
 "nbformat": 4,
 "nbformat_minor": 5
}
