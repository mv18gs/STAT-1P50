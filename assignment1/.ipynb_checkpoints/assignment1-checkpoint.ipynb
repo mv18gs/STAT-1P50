{
 "cells": [
  {
   "cell_type": "markdown",
   "id": "ba56e674",
   "metadata": {},
   "source": [
    "# Introduction to Data Science - Assignment #1\n",
    "Due date: Wednesday, Sept 28 at 9pm\n",
    "\n",
    "Note: Please follow the instructions in Question 9 and write the link to your GitHub in the assignment part in Sakai. The code for each question should be in a separate file and should be running without errors. You need to make sure that your GitHub folder is accessible for grading by the TA. For example, you may make your account/folder publicly accessible.\n",
    "\n",
    "Note 2: Make sure that you use long enough, meaningful names for your variables. For example, the variable that takes the radius of circle 1 in Question5 should be something like radiusOfCircle1 and not abbreviated as r1 or radi1; unless they are used in a heavy math formula (which is not the case here).\n",
    "\n",
    "Note 3: Comment your code."
   ]
  },
  {
   "cell_type": "markdown",
   "id": "d3f972ef",
   "metadata": {},
   "source": [
    "# Question 1\n",
    "Using loop statements, write a python code that reaches a value equal to or greater than 10<sup>8</sup> by multiplying consecutive numbers starting from 1."
   ]
  },
  {
   "cell_type": "code",
   "execution_count": 1,
   "id": "920af971",
   "metadata": {
    "scrolled": false
   },
   "outputs": [
    {
     "name": "stdout",
     "output_type": "stream",
     "text": [
      "1\n",
      "2\n",
      "6\n",
      "24\n",
      "120\n",
      "720\n",
      "5040\n",
      "40320\n",
      "362880\n",
      "3628800\n",
      "39916800\n",
      "479001600\n",
      "\n",
      " The value 479001600 is equal to, or greater than, 100000000\n"
     ]
    }
   ],
   "source": [
    "## Setting up variables\n",
    "value = 1 \n",
    "    # The value that is multiplied (by a multiplier), starting from 1\n",
    "multiplier = 0 \n",
    "    # The consecutive number which is multiplied to value\n",
    "    # Starts from 0, as each loop will add 1 before multiplying\n",
    "    # e.g. by first (starting) loop, will equal 1\n",
    "\n",
    "    \n",
    "## Python code\n",
    "\n",
    "# Multiplying consecutive numbers starting from 1\n",
    "while value < 10**8: #loop while value < 10**8\n",
    "    multiplier = multiplier + 1 #add 1 to increase multiplier consecutively\n",
    "    value = value * multiplier #set new value by multiplying\n",
    "    print(value) #prints new value of loop (optional)\n",
    "    \n",
    "# Printing final value\n",
    "else: #once value is equal or greater than 10**8\n",
    "    print(\"\\n The value\", value, \"is equal to, or greater than,\", 10**8) #print confirmation\n",
    "    "
   ]
  },
  {
   "cell_type": "markdown",
   "id": "763d5dd1",
   "metadata": {},
   "source": [
    "# Question 2\n",
    "Define a function in python that receives a list of strings as argument and returns a dict for which the key of each element is string and the value is the string length."
   ]
  },
  {
   "cell_type": "code",
   "execution_count": 2,
   "id": "ed86032d",
   "metadata": {},
   "outputs": [
    {
     "name": "stdout",
     "output_type": "stream",
     "text": [
      "['string1', 'stringTwo', 'stringThree']\n",
      "{'string1': 7, 'stringTwo': 9, 'stringThree': 11}\n",
      "9\n"
     ]
    }
   ],
   "source": [
    "##Defining the function:\n",
    "    # receives list of strings\n",
    "    # returns dict where:\n",
    "        # each list element (string) is a dict key\n",
    "        # length of each string is a dict \n",
    "def stringLengthAsDict(listOfStrings = ['string']): #receives a list of strings\n",
    "    dictOfStrings = {} #creates a dict\n",
    "    for i in listOfStrings: #for each list element (string):\n",
    "        dictOfStrings[i] = len(i) #adds string (key) to dict, with string length (value)\n",
    "    return(dictOfStrings) #returns dict\n",
    "\n",
    "\n",
    "##Test Examples (optional)\n",
    "listOfStringsExample = ['string1','stringTwo','stringThree'] #creating example string list\n",
    "\n",
    "#test, without function (should print list)\n",
    "print(listOfStringsExample) #prints list\n",
    "\n",
    "#test, with function (should print dict)\n",
    "dictOfStringsExample = stringLengthAsDict(listOfStringsExample) #creates dict\n",
    "print(dictOfStringsExample) #prints dict\n",
    "\n",
    "#testing dict functionality (should return value)\n",
    "print(dictOfStringsExample['stringTwo']) #returns value for key 'stringTwo'"
   ]
  },
  {
   "cell_type": "markdown",
   "id": "d460a563",
   "metadata": {},
   "source": [
    "# Question 3\n",
    "Define a function that takes x and y as arguments and returns x<sup>y</sup>. Then use a for loop and argument unpacking to call this function for the pairs of numbers in the list below.\n",
    "```Python\n",
    "l = [[5,6], [5,7], [4,2], [3,6], [9,8], [1,3], [9,3], [7,1], [5,4], [2,7], [9,1], [9,3], [2,5]]\n",
    "```"
   ]
  },
  {
   "cell_type": "code",
   "execution_count": 3,
   "id": "d23069da",
   "metadata": {},
   "outputs": [
    {
     "name": "stdout",
     "output_type": "stream",
     "text": [
      "15625\n",
      "78125\n",
      "16\n",
      "729\n",
      "43046721\n",
      "1\n",
      "729\n",
      "7\n",
      "625\n",
      "128\n",
      "9\n",
      "729\n",
      "32\n"
     ]
    }
   ],
   "source": [
    "##Defining the power function\n",
    "def power(x = 1,y = 1): #takes x and y as arguments\n",
    "    return(x**y) #returns x**y\n",
    "\n",
    "##Creating provided list as l\n",
    "l = [\n",
    "    [5,6], [5,7], [4,2], [3,6], [9,8], [1,3], \n",
    "    [9,3], [7,1], [5,4], [2,7], [9,1], [9,3], \n",
    "    [2,5]\n",
    "]\n",
    "\n",
    "##Calling power function for list l\n",
    "for i in l: #for each item in list\n",
    "    print(power(*i)) #call & print power function for the item"
   ]
  },
  {
   "cell_type": "markdown",
   "id": "754c9225",
   "metadata": {},
   "source": [
    "# Question 4\n",
    "In the following code, x is a random value, and l is a list of random values between 0 and 1.\n",
    "1. Sort the list\n",
    "2. Find the index of the first element in the list that is equal to or greater than x.\n",
    "```Python\n",
    "from random import random\n",
    "l = [random() for i in range(20)]\n",
    "x = random()\n",
    "```"
   ]
  },
  {
   "cell_type": "code",
   "execution_count": 4,
   "id": "edd1b5f3",
   "metadata": {},
   "outputs": [
    {
     "name": "stdout",
     "output_type": "stream",
     "text": [
      "Random, unsorted list l: [0.12, 0.12, 0.42, 0.31, 0.48, 0.48, 0.56, 0.5, 0.62, 0.79, 0.68, 0.21, 0.53, 0.85, 0.38, 0.41, 0.57, 0.88, 0.86, 0.73] \n",
      "\n",
      "Random value, x: 0.15 \n",
      "\n",
      "Sorted list: [0.12, 0.12, 0.21, 0.31, 0.38, 0.41, 0.42, 0.48, 0.48, 0.5, 0.53, 0.56, 0.57, 0.62, 0.68, 0.73, 0.79, 0.85, 0.86, 0.88] \n",
      "\n",
      "The first element in the list equal to or greater than 0.15 is 0.21 .\n",
      "The index for this element is 2 .\n"
     ]
    }
   ],
   "source": [
    "##Setting up variables, as described from question\n",
    "\n",
    "#note: rounded to two decimal places for readability\n",
    "from random import random #importing random function\n",
    "l = [round(random(),2) for i in range(20)] # creates list, l, of 20 random values (rounded)\n",
    "x = round(random(),2) #creates random value, x (rounded)\n",
    "\n",
    "print(\"Random, unsorted list l:\", l, \"\\n\") #prints l (for confirmation)\n",
    "print(\"Random value, x:\", x, \"\\n\") #prints x (for confirmation)\n",
    "\n",
    "## 1. Sorting the list\n",
    "sortedList = sorted(l) #sorts list\n",
    "print(\"Sorted list:\", sortedList, \"\\n\") #prints list (for confirmation)\n",
    "\n",
    "## 2. Printing index of first element >= x\n",
    "for i in sortedList: #for each item in sorted list\n",
    "    if not(i < x): #if element >= x\n",
    "        \n",
    "        #print the element & index confirmation messages\n",
    "        print(\"The first element in the list equal to or greater than\",x,\"is\",i,\".\") #prints element\n",
    "        print(\"The index for this element is\", sortedList.index(i),\".\") #prints index of element\n",
    "        break #exit loop"
   ]
  },
  {
   "cell_type": "markdown",
   "id": "6217bd2a",
   "metadata": {},
   "source": [
    "# Question 5\n",
    "Write a function that takes two int values as the radii of two circles, calculates the area of the circles, and then returns the percentage of the area of the larger circle that can be covered by the area of the smaller circle."
   ]
  },
  {
   "cell_type": "code",
   "execution_count": 5,
   "id": "bfed20ad",
   "metadata": {},
   "outputs": [
    {
     "name": "stdout",
     "output_type": "stream",
     "text": [
      "Requirement already satisfied: numpy in /Users/marcusvillena/opt/anaconda3/lib/python3.9/site-packages (1.21.5)\n",
      "\n",
      " The smaller circle (1) can cover 56.25 % of the area of the larger circle (2)\n"
     ]
    },
    {
     "data": {
      "text/plain": [
       "0.5625"
      ]
     },
     "execution_count": 5,
     "metadata": {},
     "output_type": "execute_result"
    }
   ],
   "source": [
    "#Question 5\n",
    "\n",
    "##Installing numpy\n",
    "!pip install numpy\n",
    "import numpy\n",
    "\n",
    "##Writing function\n",
    "def percentCircleCovered(radiusOfCircle1,radiusOfCircle2):\n",
    "    #takes two int values as circle radii\n",
    "    \n",
    "    #calculating area of circle 1 and 2\n",
    "    areaOfCircle1 = numpy.pi * (radiusOfCircle1**2)\n",
    "    areaOfCircle2 = numpy.pi * (radiusOfCircle2**2)\n",
    "    \n",
    "    #calculating percent area of smaller circle versus larger\n",
    "    #if circle 1 is smaller, use as numerator:\n",
    "    if areaOfCircle1 < areaOfCircle2: \n",
    "        print(\n",
    "            \"\\n The smaller circle (1) can cover\",\n",
    "            areaOfCircle1/areaOfCircle2*100, #prints confirmation as % (optional)\n",
    "            \"% of the area of the larger circle (2)\"\n",
    "        )\n",
    "        return(areaOfCircle1/areaOfCircle2) #returns area as proportion\n",
    "    \n",
    "    #otherwise, use circle 2 as numerator:\n",
    "    else:\n",
    "        print(\n",
    "            \"\\n The smaller circle (2) can cover\",\n",
    "            areaOfCircle2/areaOfCircle1*100, #prints confirmation as % (optional)\n",
    "            \"% of the area of the larger circle (1)\"\n",
    "        )\n",
    "        return(areaOfCircle2/areaOfCircle1) #returns area as proportion\n",
    "\n",
    "##Testing Function\n",
    "percentCircleCovered(3,4) #call function with circle radii of 3 (circle 1) and 4 (circle 2)"
   ]
  },
  {
   "cell_type": "markdown",
   "id": "1cebcf92",
   "metadata": {},
   "source": [
    "# Question 6\n",
    "Write a function that receives a list of numbers and returns a dictionary whose keys are the values of the list elements and the value of each key is a proportion of the list elements that are smaller than or equal to that key."
   ]
  },
  {
   "cell_type": "code",
   "execution_count": 6,
   "id": "04f0fd6e",
   "metadata": {},
   "outputs": [
    {
     "data": {
      "text/plain": [
       "{9: 0.6, 12: 0.8, 3: 0.4, 42: 1.0, 1: 0.2}"
      ]
     },
     "execution_count": 6,
     "metadata": {},
     "output_type": "execute_result"
    }
   ],
   "source": [
    "##Writing function\n",
    "def smallerOrEqual(listNumbers = [1]): #receives a list of numbers\n",
    "    dictProportions = {} #creates a dictionary (dict)\n",
    "    \n",
    "    #for each item (number) in the list:\n",
    "    for i in listNumbers:\n",
    "        currentValue = i #sets current value as this item\n",
    "        countOfElements = 0 #sets count of list elements to 0\n",
    "        \n",
    "        #then, for each item in the list:\n",
    "        for j in listNumbers: \n",
    "            if not (j > currentValue): #if this item is <= to the current value\n",
    "                countOfElements = countOfElements + 1 #add 1 to count\n",
    "        \n",
    "        #then, adds current value (key), to dict ...\n",
    "        #... with proportion of elements >= current value as dict value\n",
    "        dictProportions[i] = countOfElements/len(listNumbers)\n",
    "        \n",
    "    return(dictProportions) #returns dictionary\n",
    "\n",
    "##Testing Function\n",
    "listExample = [9, 12, 3, 42, 1] #create example list\n",
    "smallerOrEqual(listExample) #call function for example list\n",
    "        "
   ]
  },
  {
   "cell_type": "markdown",
   "id": "7d6cd337",
   "metadata": {},
   "source": [
    "# [bonus] Question 7\n",
    "Write a function that takes the number of seconds past from a day and prints the time in hours, minutes, and seconds with AM or PM. It should print a message if the hour is greater than 24. You can use the print function as below.\n",
    "```Python\n",
    "h = 5\n",
    "m = 17\n",
    "s = 47\n",
    "\n",
    "print(h, m, s, 'AM')\n",
    "```"
   ]
  },
  {
   "cell_type": "code",
   "execution_count": 7,
   "id": "28cda232",
   "metadata": {},
   "outputs": [
    {
     "name": "stdout",
     "output_type": "stream",
     "text": [
      "Requirement already satisfied: datetime in /Users/marcusvillena/opt/anaconda3/lib/python3.9/site-packages (4.7)\n",
      "Requirement already satisfied: pytz in /Users/marcusvillena/opt/anaconda3/lib/python3.9/site-packages (from datetime) (2021.3)\n",
      "Requirement already satisfied: zope.interface in /Users/marcusvillena/opt/anaconda3/lib/python3.9/site-packages (from datetime) (5.4.0)\n",
      "Requirement already satisfied: setuptools in /Users/marcusvillena/opt/anaconda3/lib/python3.9/site-packages (from zope.interface->datetime) (61.2.0)\n",
      "\n",
      " 3600 seconds ago was 04:46:53 PM on 09/27/2022\n"
     ]
    }
   ],
   "source": [
    "## Note: question was interpreted as:\n",
    "# create a function that takes number of seconds\n",
    "# then, (subtracts) number of seconds past from a day (e.g. current time) \n",
    "# then prints hours:minutes:seconds AM/PM \n",
    "\n",
    "##Installing datetime\n",
    "!pip install datetime #install datetime\n",
    "from datetime import * #import datetime functions\n",
    "\n",
    "##Writing Function\n",
    "def secondsAgo(secondsInput = 1): #take number of seconds past as input\n",
    "    timeAgo = datetime.now() - timedelta(seconds = secondsInput) #subtracts input from time now\n",
    "    print(\n",
    "        \"\\n\",\n",
    "        secondsInput,\n",
    "        \"seconds ago was\",\n",
    "        timeAgo.strftime(\"%I:%M:%S %p on %m/%d/%Y\") #prints formatted time\n",
    "    )\n",
    "\n",
    "##Testing Function\n",
    "secondsAgo(3600) #call function for 3600 seconds ago"
   ]
  },
  {
   "cell_type": "markdown",
   "id": "f0fa3845",
   "metadata": {},
   "source": [
    "# Question 8\n",
    "Install the pandas package. Then import it with alias pd and complete the code below to create a data frame with the column names and data in the table. You can refer to documentation here.\n",
    "\n",
    "```Python\n",
    "#################your code here####################\n",
    "\n",
    "## you need to\n",
    "## 1. Import pandas with alias pd\n",
    "## 2. Make a dict with columns names as a key and a\n",
    "## list of column values as a value\n",
    "\n",
    "###################################################\n",
    "\n",
    "df = pd.DataFrame(data)\n",
    "print(df)\n",
    "```"
   ]
  },
  {
   "cell_type": "code",
   "execution_count": 8,
   "id": "42bc0edb",
   "metadata": {},
   "outputs": [
    {
     "name": "stdout",
     "output_type": "stream",
     "text": [
      "Requirement already satisfied: pandas in /Users/marcusvillena/opt/anaconda3/lib/python3.9/site-packages (1.4.2)\n",
      "Requirement already satisfied: python-dateutil>=2.8.1 in /Users/marcusvillena/opt/anaconda3/lib/python3.9/site-packages (from pandas) (2.8.2)\n",
      "Requirement already satisfied: pytz>=2020.1 in /Users/marcusvillena/opt/anaconda3/lib/python3.9/site-packages (from pandas) (2021.3)\n",
      "Requirement already satisfied: numpy>=1.18.5 in /Users/marcusvillena/opt/anaconda3/lib/python3.9/site-packages (from pandas) (1.21.5)\n",
      "Requirement already satisfied: six>=1.5 in /Users/marcusvillena/opt/anaconda3/lib/python3.9/site-packages (from python-dateutil>=2.8.1->pandas) (1.16.0)\n",
      "\n",
      "\n",
      "   A    B    C\n",
      "0  1  3.1  800\n",
      "1  2  4.2  150\n",
      "2  2  1.5  400\n",
      "3  1  6.3  210\n"
     ]
    }
   ],
   "source": [
    "##Installing pandas as pd\n",
    "!pip install pandas #installing pandas\n",
    "import pandas as pd #importing pandas with alias pd\n",
    "print(\"\\n\") # print new line (optional, for readability)\n",
    "\n",
    "##Creating data frame, df, with provided data as described from question\n",
    "df = pd.DataFrame(\n",
    "    {'A':[1, 2, 2, 1], #column A\n",
    "     'B':[3.1, 4.2, 1.5, 6.3], #column B\n",
    "     'C':[800,150,400,210] #column C\n",
    "    }\n",
    ")\n",
    "\n",
    "##Printing data frame\n",
    "print(df)"
   ]
  },
  {
   "cell_type": "markdown",
   "id": "fe74d90c",
   "metadata": {},
   "source": [
    "# Question 9\n",
    "Create a GitHub account, initialize a repository in GitHub, and push your codes there. Add your repository address to your assignment."
   ]
  }
 ],
 "metadata": {
  "kernelspec": {
   "display_name": "Python 3 (ipykernel)",
   "language": "python",
   "name": "python3"
  },
  "language_info": {
   "codemirror_mode": {
    "name": "ipython",
    "version": 3
   },
   "file_extension": ".py",
   "mimetype": "text/x-python",
   "name": "python",
   "nbconvert_exporter": "python",
   "pygments_lexer": "ipython3",
   "version": "3.9.12"
  }
 },
 "nbformat": 4,
 "nbformat_minor": 5
}
