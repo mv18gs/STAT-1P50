{
 "cells": [
  {
   "cell_type": "code",
   "execution_count": 1,
   "id": "920af971",
   "metadata": {
    "scrolled": true
   },
   "outputs": [
    {
     "name": "stdout",
     "output_type": "stream",
     "text": [
      "1\n",
      "2\n",
      "6\n",
      "24\n",
      "120\n",
      "720\n",
      "5040\n",
      "40320\n",
      "362880\n",
      "3628800\n",
      "39916800\n",
      "479001600\n"
     ]
    }
   ],
   "source": [
    "#Question 1\n",
    "value = 1\n",
    "multiplier = 0\n",
    "\n",
    "while value < 10**8:\n",
    "    multiplier = multiplier + 1\n",
    "    value = value * multiplier\n",
    "    print(value)"
   ]
  },
  {
   "cell_type": "code",
   "execution_count": 14,
   "id": "ed86032d",
   "metadata": {},
   "outputs": [
    {
     "name": "stdout",
     "output_type": "stream",
     "text": [
      "['string1', 'stringTwo', 'stringThree']\n",
      "{'string1': 7, 'stringTwo': 9, 'stringThree': 11}\n",
      "9\n"
     ]
    }
   ],
   "source": [
    "#Question 2\n",
    "listOfStringsExample = ['string1','stringTwo','stringThree']\n",
    "\n",
    "def lengthOfStringsAsDict(listOfStrings = ['string']):\n",
    "    dictOfStrings = {}\n",
    "    for i in listOfStrings:\n",
    "        dictOfStrings[i] = len(i)\n",
    "    return(dictOfStrings)\n",
    "\n",
    "print(listOfStringsExample) # test print, before fxn\n",
    "dictOfStringsExample = lengthOfStringsAsDict(listOfStringsExample) #test print, after fxn\n",
    "print(dictOfStringsExample)\n",
    "print(dictOfStringsExample['stringTwo']) #test to see if works as dict"
   ]
  },
  {
   "cell_type": "code",
   "execution_count": 12,
   "id": "d23069da",
   "metadata": {},
   "outputs": [
    {
     "name": "stdout",
     "output_type": "stream",
     "text": [
      "15625\n",
      "78125\n",
      "16\n",
      "729\n",
      "43046721\n",
      "1\n",
      "729\n",
      "7\n",
      "625\n",
      "128\n",
      "9\n",
      "729\n",
      "32\n"
     ]
    }
   ],
   "source": [
    "#Question 3\n",
    "l = [[5,6], [5,7], [4,2], [3,6], [9,8], [1,3], [9,3], [7,1], [5,4], [2,7], [9,1], [9,3], [2,5]]\n",
    "\n",
    "def power(x = 1,y = 1):\n",
    "    return(x**y)\n",
    "\n",
    "for i in l:\n",
    "    print(power(*i))\n"
   ]
  },
  {
   "cell_type": "code",
   "execution_count": 7,
   "id": "edd1b5f3",
   "metadata": {},
   "outputs": [
    {
     "name": "stdout",
     "output_type": "stream",
     "text": [
      "[0.92, 0.95, 0.01, 0.52, 0.48, 0.08, 0.77, 1.0, 0.97, 0.75, 0.47, 0.25, 0.46, 0.27, 0.68, 0.19, 0.16, 0.75, 0.02, 0.22]\n",
      "0.45\n",
      "[0.01, 0.02, 0.08, 0.16, 0.19, 0.22, 0.25, 0.27, 0.46, 0.47, 0.48, 0.52, 0.68, 0.75, 0.75, 0.77, 0.92, 0.95, 0.97, 1.0]\n",
      "0.46\n"
     ]
    }
   ],
   "source": [
    "#Question 4 - note, rounded to 2 decimal places for easy proofreading\n",
    "# https://www.digitalocean.com/community/tutorials/how-to-use-break-continue-and-pass-statements-when-working-with-loops-in-python-3\n",
    "from random import random \n",
    "listL = [round(random(),2) for i in range(20)]\n",
    "x = round(random(),2)\n",
    "\n",
    "print(listL)\n",
    "print(x)\n",
    "\n",
    "#1. Sorting the list\n",
    "sortedListL = sorted(listL)\n",
    "print(sortedListL)\n",
    "\n",
    "#2. Printing index of first element >= x\n",
    "for i in sortedListL:\n",
    "    if not(i < x):\n",
    "        print(i)\n",
    "        break # Need to see if using break is allowed"
   ]
  },
  {
   "cell_type": "code",
   "execution_count": 45,
   "id": "bfed20ad",
   "metadata": {},
   "outputs": [
    {
     "data": {
      "text/plain": [
       "0.25"
      ]
     },
     "execution_count": 45,
     "metadata": {},
     "output_type": "execute_result"
    }
   ],
   "source": [
    "#Question 5\n",
    "\n",
    "##Installing numpy\n",
    "#!pip install numpy\n",
    "#import numpy\n",
    "\n",
    "##The Actual Code\n",
    "def percentCircleCovered(radius1,radius2):\n",
    "    area1 = numpy.pi * (radius1**2)\n",
    "    area2 = numpy.pi * (radius2**2)\n",
    "    if area1 < area2:\n",
    "        return(area1/area2)\n",
    "    else:\n",
    "        return(area2/area1)\n",
    "\n",
    "percentCircleCovered(1,2)"
   ]
  },
  {
   "cell_type": "code",
   "execution_count": 27,
   "id": "c320fccd",
   "metadata": {},
   "outputs": [
    {
     "data": {
      "text/plain": [
       "{9: 0.6, 12: 0.8, 3: 0.4, 42: 1.0, 1: 0.2}"
      ]
     },
     "execution_count": 27,
     "metadata": {},
     "output_type": "execute_result"
    }
   ],
   "source": [
    "#Question 6\n",
    "listExample = [9, 12, 3, 42, 1]\n",
    "\n",
    "def smallerOrEqual(l = [1]):\n",
    "    dictProportions = {}\n",
    "    for i in l:\n",
    "        currentValue = i\n",
    "        count = 0\n",
    "        \n",
    "        for j in l:\n",
    "            if not (j > currentValue):\n",
    "                count = count + 1\n",
    "                \n",
    "        dictProportions[i] = count/len(l)\n",
    "    return(dictProportions)\n",
    "        \n",
    "smallerOrEqual(listExample)\n",
    "        "
   ]
  },
  {
   "cell_type": "code",
   "execution_count": 21,
   "id": "28cda232",
   "metadata": {},
   "outputs": [
    {
     "name": "stdout",
     "output_type": "stream",
     "text": [
      "2022-09-26 18:55:52.422604\n"
     ]
    },
    {
     "data": {
      "text/plain": [
       "'09/26/2022, 06:55:52 PM'"
      ]
     },
     "execution_count": 21,
     "metadata": {},
     "output_type": "execute_result"
    }
   ],
   "source": [
    "##Question 7 (Bonus)\n",
    "# programiz.com/python-programming/datetime\n",
    "# https://www.w3schools.com/python/python_datetime.asp\n",
    "# https://stackoverflow.com/questions/12126318/subtracting-dates-with-python\n",
    "\n",
    "\n",
    "##!pip install datetime\n",
    "#from datetime import *\n",
    "##!pip install pytz\n",
    "#from pytz import *\n",
    "\n",
    "def secondsAgo(secondsInput = 1):\n",
    "    timeAgo = datetime.now() - timedelta(seconds = secondsInput)\n",
    "    print(timeAgo)\n",
    "    return(\n",
    "        timeAgo.strftime(\"%m/%d/%Y, %I:%M:%S %p\")\n",
    "    )\n",
    "\n",
    "secondsAgo(3600)"
   ]
  },
  {
   "cell_type": "code",
   "execution_count": 3,
   "id": "42bc0edb",
   "metadata": {},
   "outputs": [
    {
     "name": "stdout",
     "output_type": "stream",
     "text": [
      "   A    B    C\n",
      "0  1  3.1  800\n",
      "1  2  4.2  150\n",
      "2  2  1.5  400\n",
      "3  1  6.3  210\n"
     ]
    }
   ],
   "source": [
    "##Question 8\n",
    "\n",
    "##Installing pandas as pd\n",
    "#!pip install pandas\n",
    "#import pandas as pd\n",
    "\n",
    "df = pd.DataFrame(\n",
    "    {'A':[1, 2, 2, 1], \n",
    "     'B':[3.1, 4.2, 1.5, 6.3], \n",
    "     'C':[800,150,400,210]\n",
    "    })\n",
    "print(df)"
   ]
  }
 ],
 "metadata": {
  "kernelspec": {
   "display_name": "Python 3 (ipykernel)",
   "language": "python",
   "name": "python3"
  },
  "language_info": {
   "codemirror_mode": {
    "name": "ipython",
    "version": 3
   },
   "file_extension": ".py",
   "mimetype": "text/x-python",
   "name": "python",
   "nbconvert_exporter": "python",
   "pygments_lexer": "ipython3",
   "version": "3.9.12"
  }
 },
 "nbformat": 4,
 "nbformat_minor": 5
}
