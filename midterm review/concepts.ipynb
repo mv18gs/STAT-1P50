{
 "cells": [
  {
   "cell_type": "markdown",
   "id": "dc1a6901-48cd-4991-b850-d5723b071168",
   "metadata": {},
   "source": [
    "# train-test splitting\n",
    "To learn the model we have a data matrix `X` of variables (features) values and a vector `y` of target variable values, that can be splitted to the training and testing sets using `train_test_split` function."
   ]
  },
  {
   "cell_type": "code",
   "execution_count": 4,
   "id": "5b706964-4b9a-4723-b74f-df0f3a7b06a9",
   "metadata": {},
   "outputs": [],
   "source": [
    "from sklearn.model_selection import train_test_split\n",
    "import pandas as pd\n",
    "\n",
    "data = pd.read_csv('data/house-prices.csv')\n",
    "X = data.loc[:,['number of rooms', 'house size']]\n",
    "y = data.loc[:,['price']]\n",
    "\n",
    "X_train, X_test, y_train, y_test = train_test_split(X, y, test_size = 0.33)"
   ]
  },
  {
   "cell_type": "markdown",
   "id": "056a541e-73c0-4341-88d3-7fb5b8fbf522",
   "metadata": {},
   "source": [
    "# Regression model validation - Mean Absolute Error\n",
    "There are various performance measures for the regression models such as **mean absolute error (MAE)**.\n",
    "\n",
    "If y<sub>i</sub> is the real value and y_bar<sub>i</sub> is the predicted value of the outcome: (equation in slides)\n",
    "\n",
    "MAE simply calculates the average difference of predicted values and real values, and may be obtained using `mean_absolute_error` function."
   ]
  },
  {
   "cell_type": "code",
   "execution_count": 3,
   "id": "ab1c1f48-87a4-4ec7-a3ec-436e360d0ce1",
   "metadata": {
    "tags": []
   },
   "outputs": [],
   "source": [
    "from sklearn.metrics import mean_absolute_error\n",
    "\n",
    "y_true = [0, 1.5, 2.3]\n",
    "y_predicted = [1, 5.2, 1.7]\n",
    "\n",
    "MAE = mean_absolute_error(y_true, y_predicted)"
   ]
  },
  {
   "cell_type": "markdown",
   "id": "f7c7dc51-8b0d-4e9c-9c9e-f65cbb8256f6",
   "metadata": {},
   "source": [
    "Here `y_true` is the list of real values of the target variable and `y_predicted` is the list of predicted values.\n",
    "\n",
    "**Note:** The performeance measure of the regression models should not be used for classification models."
   ]
  },
  {
   "cell_type": "markdown",
   "id": "279fcb76-8783-4f08-9158-d5d1fe6157c1",
   "metadata": {},
   "source": [
    "# Accuracy\n",
    "Accuracy can be calculated as (TP + TN)/n, and using `accuracy score` function:"
   ]
  },
  {
   "cell_type": "code",
   "execution_count": 10,
   "id": "0b1afdcc-ddc2-446b-930b-6204b990d9dd",
   "metadata": {},
   "outputs": [
    {
     "data": {
      "text/plain": [
       "0.3333333333333333"
      ]
     },
     "execution_count": 10,
     "metadata": {},
     "output_type": "execute_result"
    }
   ],
   "source": [
    "from sklearn.metrics import accuracy_score\n",
    "import pandas as pd\n",
    "\n",
    "#real_predicted_values = pd.read_csv('real-predicted.csv')\n",
    "#y_true = list(real_predicted_values['y_true'])\n",
    "#y_predicted = list(real_predicted_values['y_predicted'])\n",
    "\n",
    "#note: real-predicted.csv dataset not included, made data below:\n",
    "y_true = [1, 2, 3]\n",
    "y_predicted = [1, 5, 2]\n",
    "\n",
    "accuracy_score(y_true, y_predicted)"
   ]
  },
  {
   "cell_type": "markdown",
   "id": "f34a3001-c56f-4634-bf5d-aec6bdd6dbee",
   "metadata": {},
   "source": [
    "# Other performance measures --> idk why this isnt working\n",
    "* Precision and recall are more reliable measures for model performance:\n",
    "    * Precision invesstigates the validity of the True response predicted by the model: (equation in slides)\n",
    "    * Recall investigates the power of the model in the detection of True responses: (equation in slides)\n",
    "* These two measures are combined to obtain a one comprehensive measure f1-score: (equation in slides)\n",
    "* All of these measures can be obtained using functions of the sklearn package in python:"
   ]
  },
  {
   "cell_type": "code",
   "execution_count": 23,
   "id": "ed200c11-f5bd-4885-9720-8197cb5ab958",
   "metadata": {
    "collapsed": true,
    "jupyter": {
     "outputs_hidden": true
    },
    "tags": []
   },
   "outputs": [
    {
     "ename": "ValueError",
     "evalue": "Target is multiclass but average='binary'. Please choose another average setting, one of [None, 'micro', 'macro', 'weighted'].",
     "output_type": "error",
     "traceback": [
      "\u001b[0;31m---------------------------------------------------------------------------\u001b[0m",
      "\u001b[0;31mValueError\u001b[0m                                Traceback (most recent call last)",
      "Input \u001b[0;32mIn [23]\u001b[0m, in \u001b[0;36m<cell line: 6>\u001b[0;34m()\u001b[0m\n\u001b[1;32m      3\u001b[0m y_true \u001b[38;5;241m=\u001b[39m [\u001b[38;5;241m1\u001b[39m, \u001b[38;5;241m2\u001b[39m, \u001b[38;5;241m3\u001b[39m]\n\u001b[1;32m      4\u001b[0m y_predicted \u001b[38;5;241m=\u001b[39m [\u001b[38;5;241m1\u001b[39m, \u001b[38;5;241m5\u001b[39m, \u001b[38;5;241m2\u001b[39m]\n\u001b[0;32m----> 6\u001b[0m \u001b[43mprecision_score\u001b[49m\u001b[43m(\u001b[49m\u001b[43my_true\u001b[49m\u001b[43m,\u001b[49m\u001b[43m \u001b[49m\u001b[43my_predicted\u001b[49m\u001b[43m)\u001b[49m\n\u001b[1;32m      7\u001b[0m recall_score(y_true, y_predicted)\n\u001b[1;32m      8\u001b[0m f1_score(y_true, y_predicted)\n",
      "File \u001b[0;32m~/opt/anaconda3/lib/python3.9/site-packages/sklearn/metrics/_classification.py:1776\u001b[0m, in \u001b[0;36mprecision_score\u001b[0;34m(y_true, y_pred, labels, pos_label, average, sample_weight, zero_division)\u001b[0m\n\u001b[1;32m   1647\u001b[0m \u001b[38;5;28;01mdef\u001b[39;00m \u001b[38;5;21mprecision_score\u001b[39m(\n\u001b[1;32m   1648\u001b[0m     y_true,\n\u001b[1;32m   1649\u001b[0m     y_pred,\n\u001b[0;32m   (...)\u001b[0m\n\u001b[1;32m   1655\u001b[0m     zero_division\u001b[38;5;241m=\u001b[39m\u001b[38;5;124m\"\u001b[39m\u001b[38;5;124mwarn\u001b[39m\u001b[38;5;124m\"\u001b[39m,\n\u001b[1;32m   1656\u001b[0m ):\n\u001b[1;32m   1657\u001b[0m     \u001b[38;5;124;03m\"\"\"Compute the precision.\u001b[39;00m\n\u001b[1;32m   1658\u001b[0m \n\u001b[1;32m   1659\u001b[0m \u001b[38;5;124;03m    The precision is the ratio ``tp / (tp + fp)`` where ``tp`` is the number of\u001b[39;00m\n\u001b[0;32m   (...)\u001b[0m\n\u001b[1;32m   1774\u001b[0m \u001b[38;5;124;03m    array([0.5, 1. , 1. ])\u001b[39;00m\n\u001b[1;32m   1775\u001b[0m \u001b[38;5;124;03m    \"\"\"\u001b[39;00m\n\u001b[0;32m-> 1776\u001b[0m     p, _, _, _ \u001b[38;5;241m=\u001b[39m \u001b[43mprecision_recall_fscore_support\u001b[49m\u001b[43m(\u001b[49m\n\u001b[1;32m   1777\u001b[0m \u001b[43m        \u001b[49m\u001b[43my_true\u001b[49m\u001b[43m,\u001b[49m\n\u001b[1;32m   1778\u001b[0m \u001b[43m        \u001b[49m\u001b[43my_pred\u001b[49m\u001b[43m,\u001b[49m\n\u001b[1;32m   1779\u001b[0m \u001b[43m        \u001b[49m\u001b[43mlabels\u001b[49m\u001b[38;5;241;43m=\u001b[39;49m\u001b[43mlabels\u001b[49m\u001b[43m,\u001b[49m\n\u001b[1;32m   1780\u001b[0m \u001b[43m        \u001b[49m\u001b[43mpos_label\u001b[49m\u001b[38;5;241;43m=\u001b[39;49m\u001b[43mpos_label\u001b[49m\u001b[43m,\u001b[49m\n\u001b[1;32m   1781\u001b[0m \u001b[43m        \u001b[49m\u001b[43maverage\u001b[49m\u001b[38;5;241;43m=\u001b[39;49m\u001b[43maverage\u001b[49m\u001b[43m,\u001b[49m\n\u001b[1;32m   1782\u001b[0m \u001b[43m        \u001b[49m\u001b[43mwarn_for\u001b[49m\u001b[38;5;241;43m=\u001b[39;49m\u001b[43m(\u001b[49m\u001b[38;5;124;43m\"\u001b[39;49m\u001b[38;5;124;43mprecision\u001b[39;49m\u001b[38;5;124;43m\"\u001b[39;49m\u001b[43m,\u001b[49m\u001b[43m)\u001b[49m\u001b[43m,\u001b[49m\n\u001b[1;32m   1783\u001b[0m \u001b[43m        \u001b[49m\u001b[43msample_weight\u001b[49m\u001b[38;5;241;43m=\u001b[39;49m\u001b[43msample_weight\u001b[49m\u001b[43m,\u001b[49m\n\u001b[1;32m   1784\u001b[0m \u001b[43m        \u001b[49m\u001b[43mzero_division\u001b[49m\u001b[38;5;241;43m=\u001b[39;49m\u001b[43mzero_division\u001b[49m\u001b[43m,\u001b[49m\n\u001b[1;32m   1785\u001b[0m \u001b[43m    \u001b[49m\u001b[43m)\u001b[49m\n\u001b[1;32m   1786\u001b[0m     \u001b[38;5;28;01mreturn\u001b[39;00m p\n",
      "File \u001b[0;32m~/opt/anaconda3/lib/python3.9/site-packages/sklearn/metrics/_classification.py:1563\u001b[0m, in \u001b[0;36mprecision_recall_fscore_support\u001b[0;34m(y_true, y_pred, beta, labels, pos_label, average, warn_for, sample_weight, zero_division)\u001b[0m\n\u001b[1;32m   1561\u001b[0m \u001b[38;5;28;01mif\u001b[39;00m beta \u001b[38;5;241m<\u001b[39m \u001b[38;5;241m0\u001b[39m:\n\u001b[1;32m   1562\u001b[0m     \u001b[38;5;28;01mraise\u001b[39;00m \u001b[38;5;167;01mValueError\u001b[39;00m(\u001b[38;5;124m\"\u001b[39m\u001b[38;5;124mbeta should be >=0 in the F-beta score\u001b[39m\u001b[38;5;124m\"\u001b[39m)\n\u001b[0;32m-> 1563\u001b[0m labels \u001b[38;5;241m=\u001b[39m \u001b[43m_check_set_wise_labels\u001b[49m\u001b[43m(\u001b[49m\u001b[43my_true\u001b[49m\u001b[43m,\u001b[49m\u001b[43m \u001b[49m\u001b[43my_pred\u001b[49m\u001b[43m,\u001b[49m\u001b[43m \u001b[49m\u001b[43maverage\u001b[49m\u001b[43m,\u001b[49m\u001b[43m \u001b[49m\u001b[43mlabels\u001b[49m\u001b[43m,\u001b[49m\u001b[43m \u001b[49m\u001b[43mpos_label\u001b[49m\u001b[43m)\u001b[49m\n\u001b[1;32m   1565\u001b[0m \u001b[38;5;66;03m# Calculate tp_sum, pred_sum, true_sum ###\u001b[39;00m\n\u001b[1;32m   1566\u001b[0m samplewise \u001b[38;5;241m=\u001b[39m average \u001b[38;5;241m==\u001b[39m \u001b[38;5;124m\"\u001b[39m\u001b[38;5;124msamples\u001b[39m\u001b[38;5;124m\"\u001b[39m\n",
      "File \u001b[0;32m~/opt/anaconda3/lib/python3.9/site-packages/sklearn/metrics/_classification.py:1381\u001b[0m, in \u001b[0;36m_check_set_wise_labels\u001b[0;34m(y_true, y_pred, average, labels, pos_label)\u001b[0m\n\u001b[1;32m   1379\u001b[0m         \u001b[38;5;28;01mif\u001b[39;00m y_type \u001b[38;5;241m==\u001b[39m \u001b[38;5;124m\"\u001b[39m\u001b[38;5;124mmulticlass\u001b[39m\u001b[38;5;124m\"\u001b[39m:\n\u001b[1;32m   1380\u001b[0m             average_options\u001b[38;5;241m.\u001b[39mremove(\u001b[38;5;124m\"\u001b[39m\u001b[38;5;124msamples\u001b[39m\u001b[38;5;124m\"\u001b[39m)\n\u001b[0;32m-> 1381\u001b[0m         \u001b[38;5;28;01mraise\u001b[39;00m \u001b[38;5;167;01mValueError\u001b[39;00m(\n\u001b[1;32m   1382\u001b[0m             \u001b[38;5;124m\"\u001b[39m\u001b[38;5;124mTarget is \u001b[39m\u001b[38;5;132;01m%s\u001b[39;00m\u001b[38;5;124m but average=\u001b[39m\u001b[38;5;124m'\u001b[39m\u001b[38;5;124mbinary\u001b[39m\u001b[38;5;124m'\u001b[39m\u001b[38;5;124m. Please \u001b[39m\u001b[38;5;124m\"\u001b[39m\n\u001b[1;32m   1383\u001b[0m             \u001b[38;5;124m\"\u001b[39m\u001b[38;5;124mchoose another average setting, one of \u001b[39m\u001b[38;5;132;01m%r\u001b[39;00m\u001b[38;5;124m.\u001b[39m\u001b[38;5;124m\"\u001b[39m \u001b[38;5;241m%\u001b[39m (y_type, average_options)\n\u001b[1;32m   1384\u001b[0m         )\n\u001b[1;32m   1385\u001b[0m \u001b[38;5;28;01melif\u001b[39;00m pos_label \u001b[38;5;129;01mnot\u001b[39;00m \u001b[38;5;129;01min\u001b[39;00m (\u001b[38;5;28;01mNone\u001b[39;00m, \u001b[38;5;241m1\u001b[39m):\n\u001b[1;32m   1386\u001b[0m     warnings\u001b[38;5;241m.\u001b[39mwarn(\n\u001b[1;32m   1387\u001b[0m         \u001b[38;5;124m\"\u001b[39m\u001b[38;5;124mNote that pos_label (set to \u001b[39m\u001b[38;5;132;01m%r\u001b[39;00m\u001b[38;5;124m) is ignored when \u001b[39m\u001b[38;5;124m\"\u001b[39m\n\u001b[1;32m   1388\u001b[0m         \u001b[38;5;124m\"\u001b[39m\u001b[38;5;124maverage != \u001b[39m\u001b[38;5;124m'\u001b[39m\u001b[38;5;124mbinary\u001b[39m\u001b[38;5;124m'\u001b[39m\u001b[38;5;124m (got \u001b[39m\u001b[38;5;132;01m%r\u001b[39;00m\u001b[38;5;124m). You may use \u001b[39m\u001b[38;5;124m\"\u001b[39m\n\u001b[0;32m   (...)\u001b[0m\n\u001b[1;32m   1391\u001b[0m         \u001b[38;5;167;01mUserWarning\u001b[39;00m,\n\u001b[1;32m   1392\u001b[0m     )\n",
      "\u001b[0;31mValueError\u001b[0m: Target is multiclass but average='binary'. Please choose another average setting, one of [None, 'micro', 'macro', 'weighted']."
     ]
    }
   ],
   "source": [
    "from sklearn.metrics import precision_score, recall_score, f1_score\n",
    "\n",
    "y_true = [1, 2, 3]\n",
    "y_predicted = [1, 5, 2]\n",
    "\n",
    "precision_score(y_true, y_predicted)\n",
    "recall_score(y_true, y_predicted)\n",
    "f1_score(y_true, y_predicted)"
   ]
  },
  {
   "cell_type": "markdown",
   "id": "5ed08c08-9a25-4939-a46b-5258450029e4",
   "metadata": {},
   "source": [
    "# Iris data\n",
    "* One of the most popular datasets used to test a classification model’s performance is iris data.\n",
    "* The data features include the appearance characteristics of flowers and the output is the species of the iris flower.\n",
    "* This data can be load in python as bellow, where X is an 2 dimensional array (list of lists) including feature values, and y is a list of outcome or flower species encoded as integers."
   ]
  },
  {
   "cell_type": "code",
   "execution_count": 24,
   "id": "ae53b0d5-22d0-4eda-a3cd-df7f01215126",
   "metadata": {},
   "outputs": [
    {
     "name": "stdout",
     "output_type": "stream",
     "text": [
      "['sepal length (cm)', 'sepal width (cm)', 'petal length (cm)', 'petal width (cm)']\n"
     ]
    }
   ],
   "source": [
    "from sklearn import datasets\n",
    "\n",
    "iris = datasets.load_iris()\n",
    "X = iris.data\n",
    "y = iris.target\n",
    "feature_names = iris.feature_names\n",
    "\n",
    "print(feature_names)"
   ]
  },
  {
   "cell_type": "markdown",
   "id": "866c7283-1ebe-47d1-9507-0c218e97d810",
   "metadata": {},
   "source": [
    "## K Nearest Neighbors\n",
    "* You can learn a K nearest neighbor model using `KNeighborsClassifier` class of `sklearn` package\n",
    "* the model is defined as below. Here we set the number of neighbors to 3. The distance metric can also be set as follows."
   ]
  },
  {
   "cell_type": "code",
   "execution_count": 34,
   "id": "ccd6b126-b185-4881-84b4-26abaaf40836",
   "metadata": {},
   "outputs": [],
   "source": [
    "from sklearn.neighbors import KNeighborsClassifier\n",
    "\n",
    "K = 3 #NOTE - this example is just using 3 as a placeholder... see \"Optimal K\" for how to determine optimal K value\n",
    "model = KNeighborsClassifier(n_neighbors = K, metric = 'euclidean')"
   ]
  },
  {
   "cell_type": "markdown",
   "id": "881f5f6d-434b-4c62-ad64-ccd9b5ef7fae",
   "metadata": {},
   "source": [
    "To train the model using iris data to predict the type of iris (y) based on its features (X), you can use `fit` method"
   ]
  },
  {
   "cell_type": "code",
   "execution_count": 31,
   "id": "43b03110-1a40-43fe-9f69-44efdde0949a",
   "metadata": {},
   "outputs": [],
   "source": [
    "from sklearn.neighbors import KNeighborsClassifier\n",
    "from sklearn import datasets\n",
    "\n",
    "iris = datasets.load_iris()\n",
    "X = iris.data\n",
    "y = iris.target\n",
    "\n",
    "trained_model = model.fit(X,y)"
   ]
  },
  {
   "cell_type": "markdown",
   "id": "adcd58ff-4850-4933-b957-9abffcbce0e1",
   "metadata": {},
   "source": [
    "then you can predict the type of new iris based on its feature values."
   ]
  },
  {
   "cell_type": "code",
   "execution_count": 33,
   "id": "50b08d27-31f4-4d23-a83b-048b901860fe",
   "metadata": {},
   "outputs": [
    {
     "data": {
      "text/plain": [
       "array([2])"
      ]
     },
     "execution_count": 33,
     "metadata": {},
     "output_type": "execute_result"
    }
   ],
   "source": [
    "prediction = trained_model.predict(\n",
    "    [[6.5, 3, 5.8, 2.2]]\n",
    ")\n",
    "prediction"
   ]
  },
  {
   "cell_type": "markdown",
   "id": "f203e7ce-b22b-4d9e-8795-8fdf99da6e0d",
   "metadata": {},
   "source": [
    "## Optimal K\n",
    "The optimal K is commonly selected based on the model performance on testing set"
   ]
  },
  {
   "cell_type": "code",
   "execution_count": 128,
   "id": "98a8e7b8-44e6-4609-920c-b5dd8625241f",
   "metadata": {},
   "outputs": [
    {
     "name": "stdout",
     "output_type": "stream",
     "text": [
      "[1.0, 0.98, 0.96, 0.96, 0.96, 0.98, 0.98, 1.0, 1.0, 1.0, 0.98, 1.0, 0.98, 0.98, 1.0, 1.0, 0.98, 0.98, 0.98, 0.98, 0.98, 0.98, 0.98, 0.98, 0.98, 0.98, 0.98, 0.96, 0.96, 0.94, 0.94, 0.94, 0.94, 0.94, 0.94, 0.94, 0.94, 0.92, 0.94, 0.94, 0.94, 0.94, 0.94, 0.92, 0.92, 0.92, 0.94, 0.92, 0.94]\n"
     ]
    },
    {
     "data": {
      "image/png": "[encoded data removed]",
      "text/plain": [
       "<Figure size 432x288 with 1 Axes>"
      ]
     },
     "metadata": {
      "needs_background": "light"
     },
     "output_type": "display_data"
    }
   ],
   "source": [
    "from sklearn.model_selection import train_test_split\n",
    "from sklearn.neighbors import KNeighborsClassifier\n",
    "from sklearn.metrics import accuracy_score\n",
    "from sklearn import datasets\n",
    "\n",
    "iris = datasets.load_iris()\n",
    "X = iris.data\n",
    "y = iris.target\n",
    "\n",
    "X_train, X_test, y_train, y_test = train_test_split(X, y, test_size=0.33)\n",
    "accuracy_list = []\n",
    "\n",
    "#optimal K\n",
    "kList = list(\n",
    "    range(\n",
    "        1,\n",
    "        len(y_test)\n",
    "    )\n",
    ")\n",
    "\n",
    "for k in kList:\n",
    "    model = KNeighborsClassifier(n_neighbors = k) # Define model\n",
    "    model.fit(X, y) # Train model\n",
    "    \n",
    "    y_predicted = model.predict(X_test) # Prediction\n",
    "    accuracy = accuracy_score(y_test, y_predicted)\n",
    "    accuracy_list.append(accuracy)\n",
    "    \n",
    "print(accuracy_list)\n",
    "\n",
    "# plottting K\n",
    "import matplotlib.pyplot as plt\n",
    "plt.plot(\n",
    "    kList,\n",
    "    accuracy_list,\n",
    "    'o-')\n",
    "plt.show()\n"
   ]
  },
  {
   "cell_type": "markdown",
   "id": "fafdc390-9710-453b-93db-2180545fc5e7",
   "metadata": {},
   "source": [
    "# Simple Regression Model Fitting\n",
    "* You can use `LinearRegression` class in `scikit-learn` package to learn the regression model.\n",
    "* The model is defined as below:\n",
    "    * An important argument is `fit_intercept` which is to specify whether the model includes an intercept term."
   ]
  },
  {
   "cell_type": "code",
   "execution_count": 143,
   "id": "7bcfa109-9472-4fa9-bdd3-19296f0974dc",
   "metadata": {},
   "outputs": [],
   "source": [
    "from sklearn.linear_model import LinearRegression\n",
    "\n",
    "model = LinearRegression(fit_intercept=True)"
   ]
  },
  {
   "cell_type": "markdown",
   "id": "88e92c6b-e1f3-4200-950d-b8017917f70d",
   "metadata": {},
   "source": [
    "* Now the `model` is an object of `LinearRegression` class that can be trained to predict the target variable.\n",
    "* To train the model using the `fit` method is used."
   ]
  },
  {
   "cell_type": "code",
   "execution_count": 144,
   "id": "ba6ecc42-5d8e-4303-8857-37a610385151",
   "metadata": {},
   "outputs": [],
   "source": [
    "import pandas as pd\n",
    "\n",
    "data = pd.read_csv('data/house-prices.csv')\n",
    "X = data[['house size']]\n",
    "y = data['price']\n",
    "trained_model = model.fit(X, y)"
   ]
  },
  {
   "cell_type": "markdown",
   "id": "e460cdfe-6a96-428d-90b1-ce5db2764561",
   "metadata": {},
   "source": [
    "* `y` includes the target variable values, and `X` includes the values of the feature used to predict the target variable.\n",
    "* The learned `coefficient` and `intercept` can be obtained as below."
   ]
  },
  {
   "cell_type": "code",
   "execution_count": 147,
   "id": "22f53dd3-de1c-48e1-81aa-12eb48d41969",
   "metadata": {},
   "outputs": [
    {
     "name": "stdout",
     "output_type": "stream",
     "text": [
      "[70.22631824]\n",
      "-10091.12990912309\n"
     ]
    }
   ],
   "source": [
    "print(model.coef_)\n",
    "print(model.intercept_)"
   ]
  },
  {
   "cell_type": "markdown",
   "id": "9b7d605c-e688-4fcc-8d12-8a0dc0a4566f",
   "metadata": {},
   "source": [
    "# Create decision tree\n",
    "Now lets implement decision tree using `sklearn` package to classify iris flowers"
   ]
  },
  {
   "cell_type": "code",
   "execution_count": 179,
   "id": "b75d4963-96b1-4cbe-afcf-a0156384b589",
   "metadata": {},
   "outputs": [
    {
     "data": {
      "text/plain": [
       "0.96"
      ]
     },
     "execution_count": 179,
     "metadata": {},
     "output_type": "execute_result"
    },
    {
     "data": {
      "image/png": "[encoded data removed]",
      "text/plain": [
       "<Figure size 432x288 with 1 Axes>"
      ]
     },
     "metadata": {
      "needs_background": "light"
     },
     "output_type": "display_data"
    }
   ],
   "source": [
    "from sklearn.model_selection import train_test_split\n",
    "from sklearn.tree import DecisionTreeClassifier, plot_tree\n",
    "from sklearn import datasets\n",
    "\n",
    "iris = datasets.load_iris()\n",
    "X = iris.data\n",
    "y = iris.target\n",
    "\n",
    "X_train, X_test, y_train, y_test = train_test_split(X, y, test_size = 0.33)\n",
    "model = DecisionTreeClassifier(criterion = 'entropy') # Define model\n",
    "model.fit(X_train, y_train) #Train model\n",
    "\n",
    "plot_tree(model)\n",
    "\n",
    "\n",
    "y_predicted = model.predict(X_test) # Prediction\n",
    "accuracy = accuracy_score(y_test, y_predicted)\n",
    "accuracy"
   ]
  }
 ],
 "metadata": {
  "kernelspec": {
   "display_name": "Python 3 (ipykernel)",
   "language": "python",
   "name": "python3"
  },
  "language_info": {
   "codemirror_mode": {
    "name": "ipython",
    "version": 3
   },
   "file_extension": ".py",
   "mimetype": "text/x-python",
   "name": "python",
   "nbconvert_exporter": "python",
   "pygments_lexer": "ipython3",
   "version": "3.9.12"
  }
 },
 "nbformat": 4,
 "nbformat_minor": 5
}
