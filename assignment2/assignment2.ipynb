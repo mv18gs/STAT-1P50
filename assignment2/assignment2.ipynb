{
 "cells": [
  {
   "cell_type": "markdown",
   "id": "c151e9db",
   "metadata": {},
   "source": [
    "# Introduction to data science - Assignment #2\n",
    "Due date: Wednesday, Oct 21 at 9pm\n",
    "\n",
    "The 'student.csv' and 'crime.csv' data files attached to the assignment file (available at Sakai) is taken from the UCI repository [1, 2]. The Student Data reports the student achievements at the secondary education of two Portuguese schools. This data includes the following 5 variables:\n",
    "* 'grade': Final grade of Portuguese course subject (numeric: from 0 to 20)\n",
    "* 'studytime': Weekly study time (numeric: 1 for less than 2 hours, 2 for 2 to 5 hours, 3 for 5 to 10 hours, or 4 for more than 10 hours)\n",
    "* 'Internet': Internet access at home (binary: 1 for Yes or 0 for No)\n",
    "* 'activities': Extra-curricular activities (binary: 1 for Yes or 0 for No)\n",
    "* 'absences': Number of school absences (numeric: from 0 to 93)\n",
    "\n",
    "The Crime Data file reports the number of violent crimes per 100,000 population for the communities within the United States. It also includes some socio-economic factors. The variables are as follows:\n",
    "* 'PctPopUnderPov': Percentage of people under the poverty level (numeric: from 0 to 1)\n",
    "* 'PctUnemployed': Percentage of unemployed people (numeric: from 0 to 1)\n",
    "* 'PolicPerPop': Ratio of police officers to the population (numeric: from 0 to 1)\n",
    "* 'Pcthomeless': Percentage of homeless people (numeric: from 0 to 1)\n",
    "* 'PctBSorMore':Percentage of people with a bachelors degree or higher education (numeric: from 0 to 1)\n",
    "* 'ViolentCrimesPerPop': Ratio of violent crimes to the population (numeric: from 0 to 1)\n",
    "\n",
    "The 'sample-file.txt' file is a simple text file with 5697 lines which is taken from the learning container website [3].\n",
    "\n",
    "**Note.** You must put the 'student.csv' and 'sample-file.txt' files in the same folder as your code file. If you use Jupyter notebook it may be at the address 'C:/Users/YOUR-USER-NAME'. You can also read the file with its address, for example:\n",
    "```Python\n",
    "f = open('C:/files/sample-file.txt')\n",
    "```"
   ]
  },
  {
   "cell_type": "markdown",
   "id": "42b66bd3",
   "metadata": {},
   "source": [
    "# Question 1\n",
    "Fasting blood sugar (FBS) test is normal if it is lower or equal to 99 mg/dl. Write a code to get the FBS test result of the user using stdin, and print a message if it is out of the normal range."
   ]
  },
  {
   "cell_type": "code",
   "execution_count": 7,
   "id": "a0266004",
   "metadata": {},
   "outputs": [
    {
     "name": "stdout",
     "output_type": "stream",
     "text": [
      "Type your fasting blood sugar (FBS) in mg/dl: 10\n",
      "An FBS of 10.0 mg/dl is within normal range.\n"
     ]
    }
   ],
   "source": [
    "#Get FBS from user input, and convert to float for calculations\n",
    "try:\n",
    "    FBS = float(input(\"Type your fasting blood sugar (FBS) in mg/dl: \"))\n",
    "\n",
    "#Error message, if user enters a non-numerical value\n",
    "except ValueError:\n",
    "    print(\"Please enter only numerical values.\")\n",
    "\n",
    "#Error message, other error\n",
    "except:\n",
    "    print(\"An error has occured. Please try again.\")\n",
    "\n",
    "#Else, print message based on FBS\n",
    "else:\n",
    "    if FBS > 99: #out of normal range message\n",
    "        print(\"An FBS of\", FBS, \"mg/dl is out of the normal range.\")\n",
    "    else: #within normal range message\n",
    "        print(\"An FBS of\", FBS, \"mg/dl is within normal range.\")"
   ]
  },
  {
   "cell_type": "markdown",
   "id": "a9bab924",
   "metadata": {},
   "source": [
    "# Question 2\n",
    "The following code each time randomly selects 2 numbers from the list of 1, 2, and 3 and adds each to the end of one of the two text files. Complete the code to compare the numbers added to the files, line by line, and if numbers are the same print 'Success!'.\n",
    "\n",
    "```Python\n",
    "from random import sample\n",
    "\n",
    "for i in range (0,100):\n",
    "    a = sample(['1','2','3'],1)\n",
    "    b = sample(['1','2','3'],1)\n",
    "    \n",
    "    file_a = open(file='file1.txt', mode='a')\n",
    "    file_b = open(file='file2.txt', mode='a')\n",
    "    \n",
    "    file_a.write('\\n'+a[0])\n",
    "    file_b.write('\\n'+b[0])\n",
    "    \n",
    "    file_a.close()\n",
    "    file_b.close()\n",
    "\n",
    "################## your code here ###################\n",
    "## you need to\n",
    "## 1. write a for loop to read the files line by line\n",
    "## and compare the values\n",
    "\n",
    "\n",
    "#######################################################\n",
    "```"
   ]
  },
  {
   "cell_type": "code",
   "execution_count": 59,
   "id": "ee612d6e",
   "metadata": {
    "scrolled": false
   },
   "outputs": [
    {
     "name": "stdout",
     "output_type": "stream",
     "text": [
      "Values 1 and 3 are not equal\n",
      "Values 1 and 3 are not equal\n",
      "Values 2 and 3 are not equal\n",
      "Values 3 and 2 are not equal\n",
      "Values 3 and 3 are equal ... Success!\n",
      "Values 2 and 2 are equal ... Success!\n",
      "Values 1 and 2 are not equal\n",
      "Values 1 and 1 are equal ... Success!\n",
      "Values 1 and 1 are equal ... Success!\n",
      "Values 3 and 3 are equal ... Success!\n"
     ]
    },
    {
     "ename": "AttributeError",
     "evalue": "'list' object has no attribute 'close'",
     "output_type": "error",
     "traceback": [
      "\u001b[0;31m---------------------------------------------------------------------------\u001b[0m",
      "\u001b[0;31mAttributeError\u001b[0m                            Traceback (most recent call last)",
      "Input \u001b[0;32mIn [59]\u001b[0m, in \u001b[0;36m<cell line: 37>\u001b[0;34m()\u001b[0m\n\u001b[1;32m     34\u001b[0m         \u001b[38;5;28mprint\u001b[39m(\u001b[38;5;124m\"\u001b[39m\u001b[38;5;124mValues\u001b[39m\u001b[38;5;124m\"\u001b[39m, i, \u001b[38;5;124m\"\u001b[39m\u001b[38;5;124mand\u001b[39m\u001b[38;5;124m\"\u001b[39m, j, \u001b[38;5;124m\"\u001b[39m\u001b[38;5;124mare not equal\u001b[39m\u001b[38;5;124m\"\u001b[39m) \u001b[38;5;66;03m#print not equal message\u001b[39;00m\n\u001b[1;32m     36\u001b[0m \u001b[38;5;66;03m#Closing files\u001b[39;00m\n\u001b[0;32m---> 37\u001b[0m \u001b[43mlistA\u001b[49m\u001b[38;5;241;43m.\u001b[39;49m\u001b[43mclose\u001b[49m()\n\u001b[1;32m     38\u001b[0m listB\u001b[38;5;241m.\u001b[39mclose()\n",
      "\u001b[0;31mAttributeError\u001b[0m: 'list' object has no attribute 'close'"
     ]
    }
   ],
   "source": [
    "##### NOTE: Changed to 10 random values instead of 100 for readability #####\n",
    "\n",
    "#Importing packages\n",
    "from random import sample\n",
    "import pandas as pd\n",
    "\n",
    "#Resetting .txt files (optional, keeps files 10 values long)\n",
    "open(file='file1.txt', mode='w').close()\n",
    "open(file='file2.txt', mode='w').close()\n",
    "\n",
    "#Writing 10 new random values in each file\n",
    "for i in range(0,10):\n",
    "    a = sample(['1','2','3'],1)\n",
    "    b = sample(['1','2','3'],1)\n",
    "\n",
    "    file_a = open(file='file1.txt', mode='a')\n",
    "    file_b = open(file='file2.txt', mode='a')\n",
    "\n",
    "    file_a.write(a[0]+'\\n')\n",
    "    file_b.write(b[0]+'\\n')\n",
    "\n",
    "    file_a.close()\n",
    "    file_b.close()\n",
    "    \n",
    "#Reading each file as list, with items separated by line\n",
    "listA = open(file='file1.txt', mode='r').read().splitlines()\n",
    "listB = open(file='file2.txt', mode='r').read().splitlines()\n",
    "\n",
    "#Comparing values line by line\n",
    "for (i,j) in zip(listA,listB): #For each line\n",
    "    if i == j: #If the values in listA and listB are equal\n",
    "        print(\"Values\", i, \"and\", j, \"are equal ... Success!\") #print 'Success!' message\n",
    "    else:\n",
    "        print(\"Values\", i, \"and\", j, \"are not equal\") #print not equal message\n",
    "        \n",
    "#Closing files\n",
    "listA.close()\n",
    "listB.close()"
   ]
  },
  {
   "cell_type": "markdown",
   "id": "ec65f896",
   "metadata": {},
   "source": [
    "# Question 3\n",
    "Write a code that counts the number of lines in 'sample-file.txt' file that include the 'q' character."
   ]
  },
  {
   "cell_type": "code",
   "execution_count": 11,
   "id": "b6219421",
   "metadata": {},
   "outputs": [
    {
     "name": "stdout",
     "output_type": "stream",
     "text": [
      "2850 lines in 'sample-file.txt' include the 'q' character\n"
     ]
    }
   ],
   "source": [
    "# Opening sample-file.txt, and splitting into lines\n",
    "sampleFileLines = open(file='sample-file.txt', mode='r').read().splitlines()\n",
    "\n",
    "# Counting number of lines that include the 'q' character\n",
    "count = 0 #set count to 0\n",
    "for i in sampleFileLines: #for each line\n",
    "    if \"q\" in i: #if the line contains 'q'\n",
    "        count = count + 1 #add 1 to count\n",
    "        \n",
    "# Print confirmation message        \n",
    "print(count,\n",
    "    \"lines in 'sample-file.txt' include the 'q' character\") "
   ]
  },
  {
   "cell_type": "markdown",
   "id": "85f2c475",
   "metadata": {},
   "source": [
    "# Question 4\n",
    "The following code first reads the student csv file as a data frame, and then obtains the mean value of 'grade' for the students with or without access to the internet ('internet'=0 or 1) as a new data frame. Complete the code to create a bar plot of the average grade of these 2 groups of students.\n",
    "\n",
    "```Python\n",
    "import pandas as pd\n",
    "import matplotlib.pyplot as plt\n",
    "\n",
    "data = pd.read_csv('student.csv')\n",
    "\n",
    "data = data[['internet', 'grade']]\n",
    "\n",
    "data2 = data.groupby('internet').mean().reset_index()\n",
    "\n",
    "print(data2)\n",
    "\n",
    "\n",
    "################## your code here ###################\n",
    "## you need to\n",
    "## 1. Get the list of access to the internet and the\n",
    "## list of corresponding mean grades from data2\n",
    "## 2. Use these lists to create a plot\n",
    "\n",
    "\n",
    "#######################################################\n",
    "```"
   ]
  },
  {
   "cell_type": "code",
   "execution_count": 56,
   "id": "aa6235c0",
   "metadata": {},
   "outputs": [
    {
     "name": "stdout",
     "output_type": "stream",
     "text": [
      "   internet      grade\n",
      "0         0  11.026490\n",
      "1         1  12.172691\n"
     ]
    },
    {
     "data": {
      "image/png": "[encoded data removed]",
      "text/plain": [
       "<Figure size 432x288 with 1 Axes>"
      ]
     },
     "metadata": {
      "needs_background": "light"
     },
     "output_type": "display_data"
    }
   ],
   "source": [
    "# Importing packages\n",
    "import pandas as pd\n",
    "import matplotlib.pyplot as plt\n",
    "\n",
    "# Reading 'student.csv' file as dataset, data\n",
    "data = pd.read_csv('student.csv')\n",
    "\n",
    "# Restricting to only 'internet' and 'grade' features\n",
    "data = data[['internet', 'grade']]\n",
    "\n",
    "# Group data by 'internet', reporting mean 'grade' as new dataset (data2)\n",
    "data2 = data.groupby('internet').mean().reset_index()\n",
    "print(data2)\n",
    "\n",
    "# Creating bar plot of mean 'grade' by 'internet' status\n",
    "plt.bar(\n",
    "    x = [\"No\",\"Yes\"],\n",
    "        #check if they want proper labels, or just to use 0 and 1 ?????????????????????????????\n",
    "    height = list(data2.loc[:,'grade'])\n",
    ")\n",
    "plt.xlabel(\"Internet access at home\") #adding x-axis lable\n",
    "plt.ylabel(\"Mean grade\") #adding y-axis label\n",
    "plt.show() #show plot\n"
   ]
  },
  {
   "cell_type": "markdown",
   "id": "f694c6ad",
   "metadata": {},
   "source": [
    "# Question 5\n",
    "Use a similar code to that for Question 4 to obtain a data frame including the average grade for students with different levels of study time ('studytime'= 1, 2, 3, or 4). Then create a line plot of the average grade for each level of 'studytime'."
   ]
  },
  {
   "cell_type": "code",
   "execution_count": 55,
   "id": "2bdf31db",
   "metadata": {},
   "outputs": [
    {
     "name": "stdout",
     "output_type": "stream",
     "text": [
      "   studytime      grade\n",
      "0          1  10.844340\n",
      "1          2  12.091803\n",
      "2          3  13.226804\n",
      "3          4  13.057143\n"
     ]
    },
    {
     "data": {
      "image/png": "[encoded data removed]",
      "text/plain": [
       "<Figure size 432x288 with 1 Axes>"
      ]
     },
     "metadata": {
      "needs_background": "light"
     },
     "output_type": "display_data"
    }
   ],
   "source": [
    "# Importing packages\n",
    "import pandas as pd\n",
    "import matplotlib.pyplot as plt\n",
    "\n",
    "# Reading 'student.csv' file as dataset, data\n",
    "data = pd.read_csv('student.csv')\n",
    "\n",
    "# Restricting to only 'studytime' and 'grade'\n",
    "data = data[['studytime', 'grade']]\n",
    "\n",
    "# Group by 'studytime', reporting mean 'grade' as new dataset (data2)\n",
    "data2 = data.groupby('studytime').mean().reset_index()\n",
    "print(data2)\n",
    "\n",
    "# Creating line plot\n",
    "plt.plot(\n",
    "    ['<2 Hours','2-5','5-10','>10'], #x-axis values (labels) for plot\n",
    "    list(data2.loc[:,'grade']), #y-axis values for plot\n",
    "    'o-' #marker\n",
    ")\n",
    "plt.xlabel(\"Study Time (Hours)\") #add x-axis title\n",
    "plt.ylabel(\"Mean Grade\") #add y-axis title\n",
    "plt.show() #show plot"
   ]
  },
  {
   "cell_type": "markdown",
   "id": "20789569",
   "metadata": {},
   "source": [
    "# Question 6\n",
    "Use crime data to create a scatter plot of 'PctPopUnderPov' and 'ViolentCrimesPerPop'. Then scale these feature values and create a scatter plot with the new values.\n",
    "\n",
    "**Note.** You can get a list of values for each feature and call scaler.fit transform() on it separately. But you need to first convert it to an array and reshape it\n",
    "as below:\n",
    "```Python\n",
    "import numpy as np\n",
    "\n",
    "crime_list = np.array(data['ViolentCrimesPerPop']).reshape(-1,1)\n",
    "```"
   ]
  },
  {
   "cell_type": "markdown",
   "id": "4b1cedcc",
   "metadata": {},
   "source": [
    "### Unscaled scatterplot"
   ]
  },
  {
   "cell_type": "code",
   "execution_count": 52,
   "id": "cbf4b1f0",
   "metadata": {
    "scrolled": true
   },
   "outputs": [
    {
     "data": {
      "image/png": "[encoded data removed]",
      "text/plain": [
       "<Figure size 432x288 with 1 Axes>"
      ]
     },
     "metadata": {
      "needs_background": "light"
     },
     "output_type": "display_data"
    }
   ],
   "source": [
    "#Importing packages\n",
    "import pandas as pd\n",
    "import matplotlib.pyplot as plt\n",
    "import numpy as np\n",
    "\n",
    "#Formatting data into dataframe\n",
    "data = pd.read_csv('crime.csv') #read data\n",
    "data = data[['PctPopUnderPov', 'ViolentCrimesPerPop']] #take variables into dataframe\n",
    "\n",
    "#Visualising as scatterplot\n",
    "plt.scatter(\n",
    "    list(data.loc[:,'PctPopUnderPov']), #'PctPopUnderPov' (first column) as x\n",
    "    list(data.loc[:,'ViolentCrimesPerPop']) #'ViolentCrimesPerPop' (second column) as y\n",
    ")\n",
    "plt.xlabel(\"Proportion of people under poverty level\") #add x-axis title\n",
    "plt.ylabel(\"Ratio of violent crimes to population\") #add y-axis title\n",
    "plt.show() #show plot"
   ]
  },
  {
   "cell_type": "markdown",
   "id": "9cd9ee94",
   "metadata": {},
   "source": [
    "### Scaled scatterplot"
   ]
  },
  {
   "cell_type": "code",
   "execution_count": 49,
   "id": "5d4c2005",
   "metadata": {},
   "outputs": [
    {
     "data": {
      "image/png": "[encoded data removed]",
      "text/plain": [
       "<Figure size 432x288 with 1 Axes>"
      ]
     },
     "metadata": {
      "needs_background": "light"
     },
     "output_type": "display_data"
    }
   ],
   "source": [
    "# Import packages\n",
    "import pandas as pd\n",
    "import matplotlib.pyplot as plt\n",
    "import numpy as np\n",
    "from sklearn.preprocessing import StandardScaler\n",
    "\n",
    "# Reading data\n",
    "data = pd.read_csv('crime.csv')[['PctPopUnderPov', 'ViolentCrimesPerPop']\n",
    "].to_numpy()# convert to numpy dataframe\n",
    "\n",
    "# Scale & transform data\n",
    "data = StandardScaler().fit_transform(data)\n",
    "\n",
    "# Plotting scaled data\n",
    "plt.scatter( #create scatterplot\n",
    "    list(data[:,0]), #'PctPopUnderPov' (first column) as x\n",
    "    list(data[:,1]) #'ViolentCrimesPerPop' (second column) as y\n",
    ")\n",
    "plt.xlabel(\"Scaled proportion of people under poverty level\") #add x-axis title\n",
    "plt.ylabel(\"Scaled ratio of violent crimes to population\") #add y-axis title\n",
    "plt.show() #show plot"
   ]
  },
  {
   "cell_type": "markdown",
   "id": "4976e8a6",
   "metadata": {},
   "source": [
    "# Question 7\n",
    "Write a code that uses the requests and bs4 packages to get all the paragraphs of the 'data science' page at wikipedia and then counts the number of paragraphs that contain the word 'learning'."
   ]
  },
  {
   "cell_type": "code",
   "execution_count": 47,
   "id": "5cdaf661",
   "metadata": {},
   "outputs": [
    {
     "name": "stdout",
     "output_type": "stream",
     "text": [
      "There are 3 paragraphs that contain the word 'learning'\n"
     ]
    }
   ],
   "source": [
    "#Importing packages\n",
    "from bs4 import BeautifulSoup\n",
    "import requests\n",
    "\n",
    "#Getting text from each paragraph '<p>'\n",
    "content = requests.get(\"https://en.wikipedia.org/wiki/Data_science\").text #get text from website\n",
    "paragraphs = BeautifulSoup(content, 'html.parser').find_all('p') #save paragraphs marked with <p> tag\n",
    "\n",
    "#Counting paragraphs containing 'learning'\n",
    "count = 0 #set count to 0\n",
    "for i in range(0,len(paragraphs)): #for each paragraph (item)\n",
    "    if \"learning\" in paragraphs[i].text.casefold(): #if the 'learning' (not case sensitive) is in paragraph\n",
    "        count = count + 1 #...add 1 to count    \n",
    "print(\"There are\", count, \"paragraphs that contain the word 'learning'\") #print count confirmation message"
   ]
  },
  {
   "cell_type": "markdown",
   "id": "e144f06f",
   "metadata": {},
   "source": [
    "# Question 8\n",
    "Divide the data samples into two categories of students with 'studytime' (i) less than 3 or (ii) equal to or more than 3. Then create a box plot of ‘grade’ for each category and compare the two plots."
   ]
  },
  {
   "cell_type": "code",
   "execution_count": 44,
   "id": "27e656d5",
   "metadata": {},
   "outputs": [
    {
     "data": {
      "text/plain": [
       "<3         AxesSubplot(0.1,0.15;0.363636x0.75)\n",
       "≥3    AxesSubplot(0.536364,0.15;0.363636x0.75)\n",
       "dtype: object"
      ]
     },
     "execution_count": 44,
     "metadata": {},
     "output_type": "execute_result"
    },
    {
     "data": {
      "image/png": "[encoded data removed]",
      "text/plain": [
       "<Figure size 432x288 with 2 Axes>"
      ]
     },
     "metadata": {
      "needs_background": "light"
     },
     "output_type": "display_data"
    }
   ],
   "source": [
    "# Importing packages\n",
    "import pandas as pd\n",
    "import matplotlib.pyplot as plt\n",
    "import numpy as np\n",
    "\n",
    "# Reading data\n",
    "data = pd.read_csv('student.csv')[['studytime','grade']]\n",
    "\n",
    "# Cutting & assigning data into categories\n",
    "data = data.assign( \n",
    "    studyCateg = pd.cut( #cuts data into categories, stored as studyCateg\n",
    "        data.studytime,\n",
    "        bins = [-np.inf,3,np.inf], #categories have bins of <3 or >=3\n",
    "        labels = ['<3','>=3'], #add category labels to plot\n",
    "        right = False #not right inclusive; makes lower bounds as <3, rather than <=3\n",
    "    )\n",
    ") #assigns studyCateg to each item\n",
    "\n",
    "# Creating boxplot\n",
    "data[['studyCateg','grade']].groupby('studyCateg').boxplot()\n",
    "    #takes studyCateg and grade from data, groups by studyCateg, then plots\n",
    "\n"
   ]
  },
  {
   "cell_type": "markdown",
   "id": "b4f09964",
   "metadata": {},
   "source": [
    "# Question 9\n",
    "Write a code to get the correlation of features in the crime data with the ratio of violent crimes."
   ]
  },
  {
   "cell_type": "code",
   "execution_count": 43,
   "id": "c07b5fe5",
   "metadata": {
    "scrolled": false
   },
   "outputs": [
    {
     "data": {
      "text/plain": [
       "PctPopUnderPov         0.615753\n",
       "PctUnemployed          0.548039\n",
       "PolicPerPop            0.149319\n",
       "Pcthomeless            0.426614\n",
       "PctBSorMore           -0.296239\n",
       "ViolentCrimesPerPop    1.000000\n",
       "Name: ViolentCrimesPerPop, dtype: float64"
      ]
     },
     "execution_count": 43,
     "metadata": {},
     "output_type": "execute_result"
    }
   ],
   "source": [
    "#Importing packages\n",
    "import pandas as pd\n",
    "\n",
    "# Read crime data and find correlation of features, only in relation to 'ViolentCrimesPerPop'\n",
    "pd.read_csv('crime.csv').corr()['ViolentCrimesPerPop']"
   ]
  },
  {
   "cell_type": "markdown",
   "id": "5db95050",
   "metadata": {},
   "source": [
    "# Question 10\n",
    "One definition for an outlier is the value that falls outside (u − 3s , u + 3s), where u is the average of the values and s is the standard deviation. Write a function that takes a list of values and a test value and checks if the test value is an outlier and prints a message."
   ]
  },
  {
   "cell_type": "code",
   "execution_count": 40,
   "id": "4d525808",
   "metadata": {},
   "outputs": [
    {
     "name": "stdout",
     "output_type": "stream",
     "text": [
      "The lower bounds for an outlier is 2.2215102431044524\n",
      "The upper bounds for an outlier is 21.59050824688014 \n",
      "\n",
      "The test value -10 is an outlier\n",
      "The test value 30 is an outlier\n",
      "The test value 15 is not an outlier\n"
     ]
    }
   ],
   "source": [
    "# Importing packages\n",
    "import numpy as np\n",
    "\n",
    "# Defining outlier checking function\n",
    "def listOutliers(l = [], x = 1): #for list l and test value x\n",
    "    if x < np.mean(l)-3*np.std(l) or x > np.mean(l)+3*np.std(l): #if x falls outside of u+-3s of l\n",
    "        print(\"The test value\", x, \"is an outlier\") #print outlier message\n",
    "    else:\n",
    "        print(\"The test value\", x, \"is not an outlier\") #otherwise, print non-outlier message\n",
    "        \n",
    "        \n",
    "# Testing function with example\n",
    "import pandas as pd #importing pandas\n",
    "exampleList = pd.read_csv('student.csv')['grade'] #reading example dataset\n",
    "\n",
    "## determining bounds (e.g. μ±3σ)\n",
    "## the function should report 'outlier' values which fall outside these bounds\n",
    "print(\"The lower bounds for an outlier is\", np.mean(exampleList)-3*np.std(exampleList))\n",
    "print(\"The upper bounds for an outlier is\", np.mean(exampleList)+3*np.std(exampleList),\"\\n\")\n",
    "\n",
    "## function example demonstration\n",
    "listOutliers(exampleList, -10) # outlier, test value x is below lower bounds\n",
    "listOutliers(exampleList, 30) # outlier, test value x is above upper bounds\n",
    "listOutliers(exampleList, 15) # outlier, test value x is within normal bounds"
   ]
  }
 ],
 "metadata": {
  "kernelspec": {
   "display_name": "Python 3 (ipykernel)",
   "language": "python",
   "name": "python3"
  },
  "language_info": {
   "codemirror_mode": {
    "name": "ipython",
    "version": 3
   },
   "file_extension": ".py",
   "mimetype": "text/x-python",
   "name": "python",
   "nbconvert_exporter": "python",
   "pygments_lexer": "ipython3",
   "version": "3.9.12"
  }
 },
 "nbformat": 4,
 "nbformat_minor": 5
}
