{
 "cells": [
  {
   "cell_type": "markdown",
   "id": "ef60c2ca-df49-441a-98b3-8c51792b9222",
   "metadata": {
    "tags": []
   },
   "source": [
    "# Introduction to data science - Assignment #3\n",
    "The ‘crime.csv’, ‘kidney disease.csv’, and ‘email.csv’ data files attached to the assignment file (available at Sakai) is taken from the UCI repository [1] and Kaggle website [2, 3]. The Crime Data file reports the number of violent crimes per 100,000 population for the communities within the United States. It also includes some socio-economic factors. The variables are as follows:\n",
    "* ‘PctPopUnderPov’: Percentage of people under the poverty level (numeric: from 0 to 1)\n",
    "* ‘PctUnemployed’: Percentage of unemployed people (numeric: from 0 to 1)\n",
    "* ‘PolicPerPop’: Ratio of police officers to the population (numeric: from 0 to 1)\n",
    "* ‘Pcthomeless’: Percentage of homeless people (numeric: from 0 to 1)\n",
    "* ‘PctBSorMore’: Percentage of people with a bachelor’s degree or higher education (numeric: from 0 to 1)\n",
    "* ‘ViolentCrimesPerPop’: Ratio of violent crimes to the population (numeric: from 0 to 1)\n",
    "\n",
    "The Kidney Disease Data reports the age, blood pressure, and the results of the blood test factors for healthy people and kidney patients. This data includes the following 9 variables:\n",
    "* ‘age’: Age of the individual (numeric: from 2 to 90)\n",
    "* ‘bp’: Blood pressure (numeric: from 50 to 180)\n",
    "* ‘sod’: Blood sodium level test result (numeric: from 104 to 163)\n",
    "* ‘pot’: Blood potassium level test result (numeric: from 2.5 to 47)\n",
    "* ‘hemo’: Hemoglobin blood test result (numeric: from 3.1 to 17.8)\n",
    "* ‘pcv’: Packed cell volume test result (numeric: from 9 to 54)\n",
    "* ‘wc’: White blood cell test result (numeric: from 2200 to 26400)\n",
    "* ‘rc’: Red blood cell test result (numeric: from 2.1 to 8)\n",
    "* ‘CKD’: Chronic kidney disease (binary: 0 for healthy individuals and 1 for kidney patients)\n",
    "\n",
    "The Email Data includes the text of the numerous emails labeled as spam or not spam. This data includes the following columns:\n",
    "* ‘email’: Text of the email (string)\n",
    "* ‘label’: Label of the email (binary: 1 for spam and 0 for not-spam)\n",
    "\n",
    "**Note.** You must put the CSV files in the same folder as your code file. If you use Jupyter notebook it should be in the address: ‘C:/Users/YOURUSER-NAME’. You can also read the file by its address; for example:\n",
    "```Python\n",
    "f = open('C:/files/sample-file.txt')\n",
    "```"
   ]
  },
  {
   "cell_type": "markdown",
   "id": "cb96c6c6-3e95-450b-904a-f4c04904dc9f",
   "metadata": {
    "tags": []
   },
   "source": [
    "# Question 1\n",
    "Write a code to learn a simple regression model to predict the ratio of violent crimes based on (i) percentage of unemployed people and (ii) percentage of people with a bachelor’s degree or higher education. Then explain the impact of each of these two factors on violent crimes by interpreting the \n",
    "regression coefficients."
   ]
  },
  {
   "cell_type": "code",
   "execution_count": 1,
   "id": "b7d20aa6-cf01-4e7e-bb2d-f93a53967857",
   "metadata": {},
   "outputs": [
    {
     "name": "stdout",
     "output_type": "stream",
     "text": [
      "For pctUnemployed:\n",
      "The linear regression coefficient is [0.79416959]\n",
      "The linear regression intercept is 0.08767372551145558 \n",
      "\n",
      "For pctBSorMore:\n",
      "The linear regression coefficient is [-0.4617803]\n",
      "The linear regression intercept is 0.6066504351459001\n"
     ]
    }
   ],
   "source": [
    "# Importing packages\n",
    "from sklearn.linear_model import LinearRegression\n",
    "import pandas as pd\n",
    "\n",
    "# Reading data\n",
    "data = pd.read_csv('crime.csv')\n",
    "\n",
    "# Assigning features to variables\n",
    "violentCrimesPerPop = data['ViolentCrimesPerPop']\n",
    "pctUnemployed = data[['PctUnemployed']]\n",
    "pctBSorMore = data[['PctBSorMore']]\n",
    "\n",
    "# Fitting data to linear regression model\n",
    "model1 = LinearRegression().fit(pctUnemployed, violentCrimesPerPop)\n",
    "print(\"For pctUnemployed:\")\n",
    "print(\"The linear regression coefficient is\", model1.coef_) # print linear regression coefficient\n",
    "print(\"The linear regression intercept is\", model1.intercept_,\"\\n\") # print linear regression intercept\n",
    "\n",
    "model2 = LinearRegression().fit(pctBSorMore, violentCrimesPerPop)\n",
    "print(\"For pctBSorMore:\")\n",
    "print(\"The linear regression coefficient is\", model2.coef_) # print linear regression coefficient\n",
    "print(\"The linear regression intercept is\", model2.intercept_) # print linear regression intercept"
   ]
  },
  {
   "cell_type": "markdown",
   "id": "b612a318-8a92-41e9-be37-7efb6de55d6e",
   "metadata": {},
   "source": [
    "(i) Based on its regression coefficient of approximately 0.794, the percentage of unemployed people (pctUnemployed) has a positive effect on the ratio of violent crimes; that is, as pctUnemployed increases, so does the ratio of violent crimes (with all other variables held constant).\n",
    "\n",
    "(ii) Based on its regression coefficient of approximately -0.462, the percentage of people with a bachelor's degree or higher education (pctBSorMore) has a negative effect on the ratio of violent crimes; that is, as pctBSorMore increases, the ratio of violent crimes decreases (with all other variables held constant)."
   ]
  },
  {
   "cell_type": "markdown",
   "id": "d5a06123-8a8e-41f8-b207-546ff6409e5c",
   "metadata": {},
   "source": [
    "# Question 2\n",
    "Write a code to learn a multiple regression model to predict the ratio of violent crimes based on all the other variables. Report the most influential factor in violent crimes."
   ]
  },
  {
   "cell_type": "code",
   "execution_count": 1,
   "id": "30a16311-ddb5-4230-8f0a-41a94e212394",
   "metadata": {
    "tags": []
   },
   "outputs": [
    {
     "name": "stdout",
     "output_type": "stream",
     "text": [
      "The linear regression coefficients are [ 0.56906083  0.21041265  0.19527306  0.21295658 -0.06307632]\n",
      "The linear regression intercept is 0.05026064752166082\n"
     ]
    }
   ],
   "source": [
    "# Importing packages\n",
    "from sklearn.linear_model import LinearRegression\n",
    "import pandas as pd\n",
    "\n",
    "# Reading data & assigning features\n",
    "data = pd.read_csv('crime.csv')\n",
    "X = data.iloc[:,0:5] #independent, predictors\n",
    "y = data['ViolentCrimesPerPop'] #dependent, predicted\n",
    "\n",
    "# Fitting data to linear regression model\n",
    "model = LinearRegression().fit(X, y)\n",
    "print(\"The linear regression coefficients are\", model.coef_)\n",
    "print(\"The linear regression intercept is\", model.intercept_)\n"
   ]
  },
  {
   "cell_type": "markdown",
   "id": "af89fe4b-5be0-4c62-a5fc-5f6233b36e64",
   "metadata": {},
   "source": [
    "Based on the multiple regression model, the most influential factor in violent crimes is the percentage of people under the poverty level (PctPopUnderPov), as it has the greatest absolute regression coefficient (approximately 0.569)"
   ]
  },
  {
   "cell_type": "markdown",
   "id": "6f829c6e-c651-4f6a-b48e-ef613884af7f",
   "metadata": {},
   "source": [
    "# Question 3\n",
    "Use `LogisticRegression` class of `sklearn` package to learn a logistic regression model that predicts chronic kidney disease based on other variables in Kidney Disease Data."
   ]
  },
  {
   "cell_type": "markdown",
   "id": "40a23610-49d7-467a-b604-d0bacfda7f5f",
   "metadata": {},
   "source": [
    "### Non-scaled Data\n",
    "Using non-scaled data produces a warning message"
   ]
  },
  {
   "cell_type": "code",
   "execution_count": 4,
   "id": "6f0022b0-d2ec-4ac4-aea6-a19adaa05f57",
   "metadata": {
    "tags": []
   },
   "outputs": [
    {
     "name": "stdout",
     "output_type": "stream",
     "text": [
      "The coefficients are: [[ 5.94233006e-02  1.73231100e-01  6.83825724e-02 -7.04750167e-02\n",
      "  -1.08041713e+00 -3.34047211e-01  4.49913239e-04 -3.46605088e-01]]\n",
      "The intercept is: [0.03332329]\n"
     ]
    },
    {
     "name": "stderr",
     "output_type": "stream",
     "text": [
      "/Users/marcusvillena/opt/anaconda3/lib/python3.9/site-packages/sklearn/linear_model/_logistic.py:814: ConvergenceWarning: lbfgs failed to converge (status=1):\n",
      "STOP: TOTAL NO. of ITERATIONS REACHED LIMIT.\n",
      "\n",
      "Increase the number of iterations (max_iter) or scale the data as shown in:\n",
      "    https://scikit-learn.org/stable/modules/preprocessing.html\n",
      "Please also refer to the documentation for alternative solver options:\n",
      "    https://scikit-learn.org/stable/modules/linear_model.html#logistic-regression\n",
      "  n_iter_i = _check_optimize_result(\n"
     ]
    }
   ],
   "source": [
    "# Importing packages\n",
    "from sklearn.linear_model import LogisticRegression\n",
    "import pandas as pd\n",
    "\n",
    "\n",
    "# Reading data & assigning features\n",
    "data = pd.read_csv('kidney_disease.csv')\n",
    "X = data.iloc[:,0:8] #independent, predictors\n",
    "y = data['ckd'] #dependent, predicted\n",
    "\n",
    "# Fitting data to linear regression model\n",
    "model = LogisticRegression().fit(X,y)\n",
    "print(\"The coefficients are:\", model.coef_)\n",
    "print(\"The intercept is:\", model.intercept_)\n"
   ]
  },
  {
   "cell_type": "markdown",
   "id": "b5b79c1b-49bd-44b8-beab-9343e04f0e56",
   "metadata": {},
   "source": [
    "### Scaled data\n",
    "Using scaled data avoids such a warning message"
   ]
  },
  {
   "cell_type": "code",
   "execution_count": 6,
   "id": "8fe19399-b6f4-4252-bac5-87fd69b43452",
   "metadata": {},
   "outputs": [
    {
     "name": "stdout",
     "output_type": "stream",
     "text": [
      "The coefficients are: [[ 0.64074792  0.97968573 -1.17806381 -0.29715299 -1.95532593 -1.69544651\n",
      "   0.84098867 -0.76690007]]\n",
      "The intercept is: [-0.0579012]\n"
     ]
    }
   ],
   "source": [
    "# Importing packages\n",
    "from sklearn.preprocessing import StandardScaler\n",
    "from sklearn.linear_model import LogisticRegression\n",
    "import pandas as pd\n",
    "\n",
    "\n",
    "# Reading data & assigning features\n",
    "data = pd.read_csv('kidney_disease.csv')\n",
    "y = data['ckd']\n",
    "\n",
    "# Scale & transform data for X\n",
    "data = StandardScaler().fit_transform(data)\n",
    "X = data[:,0:8] #independent, predictors\n",
    "\n",
    "# Fitting data to linear regression model\n",
    "model = LogisticRegression().fit(X,y)\n",
    "print(\"The coefficients are:\", model.coef_)\n",
    "print(\"The intercept is:\", model.intercept_)\n",
    "\n"
   ]
  },
  {
   "cell_type": "markdown",
   "id": "ae4241d3-bc68-4229-bfac-8fbeaa7a2834",
   "metadata": {},
   "source": [
    "# Question 4\n",
    "Split Kidney Disease Data into two parts of training data (70%) and testing data (30%), and train the model in Question 3 using the training data. Then predict the chronic kidney disease for the testing data samples and report the accuracy and f1 score of the predictions."
   ]
  },
  {
   "cell_type": "code",
   "execution_count": 8,
   "id": "6c9981fa-fe2f-4cf5-80eb-b5d942d0ce05",
   "metadata": {},
   "outputs": [
    {
     "name": "stdout",
     "output_type": "stream",
     "text": [
      "The coefficients are: [[ 1.11860181e-01  1.96943751e-01 -1.23387851e-02  5.08324523e-02\n",
      "  -9.16030983e-01 -2.25580580e-01  3.98043961e-04 -4.36055811e-01]]\n",
      "The intercept is: [0.03345608] \n",
      "\n",
      "The accuracy score of the predictions is: 0.9411764705882353\n",
      "The f1 score of the predictions is: 0.9130434782608695\n"
     ]
    }
   ],
   "source": [
    "# Importing packages\n",
    "from sklearn.linear_model import LogisticRegression\n",
    "from sklearn.model_selection import train_test_split\n",
    "from sklearn.metrics import accuracy_score, confusion_matrix, f1_score\n",
    "import pandas as pd\n",
    "\n",
    "\n",
    "# Reading data & assigning features\n",
    "data = pd.read_csv('kidney_disease.csv')\n",
    "X = data.iloc[:,0:8] #independent, predictors\n",
    "y = data['ckd'] #dependent, predicted\n",
    "\n",
    "# Splitting data into test and train data\n",
    "X_train, X_test, y_train, y_test = train_test_split(X, y, test_size=0.30, random_state=123)\n",
    "\n",
    "# Fitting split data to linear regression model\n",
    "model = LogisticRegression().fit(X_train, y_train)\n",
    "print(\"The coefficients are:\", model.coef_)\n",
    "print(\"The intercept is:\", model.intercept_, \"\\n\")\n",
    "\n",
    "# Model evaluation (finding accuracy & f1 score)\n",
    "y_pred = model.predict(X_test)\n",
    "print(\"The accuracy score of the predictions is:\", accuracy_score(y_test, y_pred)) \n",
    "print(\"The f1 score of the predictions is:\", f1_score(y_test, y_pred))"
   ]
  },
  {
   "cell_type": "markdown",
   "id": "e483638f-ba9f-4b70-98be-4ae9fd3d65b8",
   "metadata": {},
   "source": [
    "# Question 5\n",
    "The following function takes a text as input and returns a dictionary that includes the frequency of each word in the text. Change this function to return the frequency ratio of the most frequent word to the length of the text.\n",
    "\n",
    "```Python\n",
    "def get_frequency(input_string):\n",
    "    \n",
    "    list_of_words = input_string.split(' ')\n",
    "    dict_of_frequencies = {}\n",
    "    \n",
    "    for word in list_of_words:\n",
    "        \n",
    "        if word in dict_of_frequencies.keys():\n",
    "            dict_of_frequencies[word] = dict_of_frequencies[word] + 1\n",
    "        else:\n",
    "            dict_of_frequencies[word] = 1\n",
    "        \n",
    "    return(dict_of_frequencies)\n",
    "\n",
    "```"
   ]
  },
  {
   "cell_type": "code",
   "execution_count": 5,
   "id": "be828a53-b3de-41f4-98cb-aa30980bb4b2",
   "metadata": {},
   "outputs": [
    {
     "data": {
      "text/plain": [
       "{'world': 0.25, 'test': 0.25}"
      ]
     },
     "execution_count": 5,
     "metadata": {},
     "output_type": "execute_result"
    }
   ],
   "source": [
    "#Defining function\n",
    "def get_frequency(input_string):\n",
    "    \n",
    "    list_of_words = input_string.split(' ') #create list of words, delimited by spaces\n",
    "    dict_of_frequencies = {} #create empty dict of frequencies\n",
    "    word_count = 0 #create word_count variable, set to 0\n",
    "    \n",
    "    # finding frequency of each word in list\n",
    "    for word in list_of_words: #for each word in list\n",
    "        \n",
    "        word_count = word_count + 1 #add to word count for each word in list\n",
    "        \n",
    "        if word in dict_of_frequencies.keys(): #if word already exists in dict\n",
    "            dict_of_frequencies[word] = dict_of_frequencies[word] + 1 #add 1 to word's frequency\n",
    "        else:\n",
    "            dict_of_frequencies[word] = 1 #otherwise add word to dict, set frequency to 1\n",
    "    \n",
    "    # find frequency ratio of most frequent word(s)\n",
    "    dict_of_frequencies = { #write over dict_of_frequencies\n",
    "        key:(value/word_count) #divide frequency by word count (e.g. find ratio)\n",
    "        for (key,value) in dict_of_frequencies.items() #only for dict elements...\n",
    "        if value == max(dict_of_frequencies.values()) #... which have frequency equal to the max frequency\n",
    "    }\n",
    "    \n",
    "    return(dict_of_frequencies)\n",
    "\n",
    "#Testing function\n",
    "# 12 words total, 'world' and 'test' occur 3 times (proportion = 0.25) each\n",
    "get_frequency(\"Hello hello Hello world world world! world Hello! World! test test test\")"
   ]
  },
  {
   "cell_type": "code",
   "execution_count": 6,
   "id": "ffb9f354-3719-4991-920a-bfef028e089c",
   "metadata": {},
   "outputs": [
    {
     "data": {
      "text/plain": [
       "0.25"
      ]
     },
     "execution_count": 6,
     "metadata": {},
     "output_type": "execute_result"
    }
   ],
   "source": [
    "# Simplified function for question 6\n",
    "\n",
    "#Defining function\n",
    "def get_frequency(input_string):\n",
    "    \n",
    "    list_of_words = input_string.split(' ') #create list of words, delimited by spaces\n",
    "    dict_of_frequencies = {} #create empty dict of frequencies\n",
    "    word_count = 0 #create word_count variable, set to 0\n",
    "    \n",
    "    # finding frequency of each word in list\n",
    "    for word in list_of_words: #for each word in list\n",
    "        \n",
    "        word_count = word_count + 1 #add to word count for each word in list\n",
    "        \n",
    "        if word in dict_of_frequencies.keys(): #if word already exists in dict\n",
    "            dict_of_frequencies[word] = dict_of_frequencies[word] + 1 #add 1 to word's frequency\n",
    "        else:\n",
    "            dict_of_frequencies[word] = 1 #otherwise add word to dict, set frequency to 1\n",
    "    \n",
    "    return( \n",
    "        max(dict_of_frequencies.values())/word_count # return frequency ratio of most frequent word(s)\n",
    "    )\n",
    "\n",
    "#Testing function\n",
    "# 12 words total, 'world' and 'test' occur 3 times (ratio = 3/12 = 0.25) each\n",
    "get_frequency(\"Hello hello Hello world world world! world Hello! World! test test test\")\n"
   ]
  },
  {
   "cell_type": "markdown",
   "id": "94cdfa16-fc80-448b-9092-093102d81956",
   "metadata": {
    "tags": []
   },
   "source": [
    "# Question 6\n",
    "The following code is to extract useful features from the email texts included in the Email Data and train a model to predict if the email is spam. Complete the code to:\n",
    "* Extract four binary features representing the presence of the words 'hyperlink', 'free', 'click', and 'business' in email texts,\n",
    "* Use the `get_frequency` function in Question 5 to extract the ratio of the most frequent word of the text as a numeric feature,\n",
    "* Train a logistic regression model on 70% of the data to classify the email as spam or not spam based on the five extracted features,\n",
    "* Predict the label of the remaining 30% of the data and report the accuracy of the predictions.\n",
    "\n",
    "```Python\n",
    "import pandas as pd\n",
    "from sklearn.model_selection import train_test_split\n",
    "from sklearn.linear_model import LogisticRegression\n",
    "from sklearn.metrics import accuracy_score\n",
    "\n",
    "data = pd.read_csv('email.csv')\n",
    "\n",
    "# adding empty columns\n",
    "data['hyperlink'] = None\n",
    "data['free'] = None\n",
    "data['click'] = None\n",
    "data['business'] = None\n",
    "data['frequency'] = None\n",
    "\n",
    "################## your code here ###################\n",
    "## you need to\n",
    "## 1. for each row\n",
    "## 1-1. check if the mail text includes the words\n",
    "## 'hyperlink', 'free', click', and 'business' and\n",
    "## fill the corresponding columns with 0 or 1\n",
    "## 1-2. Use the get_frequency function to get the ratio of\n",
    "## the most frequent word and fill the frequency column\n",
    "##\n",
    "## 2. split the data into the training (70%) and testing\n",
    "## (30%) data\n",
    "##\n",
    "## 3. Use Logistic Regression class of sklearn package\n",
    "## to train a model to predict the label of emails\n",
    "## based on the extracted features\n",
    "\n",
    "\n",
    "#######################################################\n",
    "```"
   ]
  },
  {
   "cell_type": "markdown",
   "id": "f1f624de-49f1-4146-ab77-6138a3dc08e8",
   "metadata": {
    "jupyter": {
     "source_hidden": true
    },
    "tags": []
   },
   "source": [
    "### Notes\n",
    "if function in pd dataframe\n",
    "https://datatofish.com/if-condition-in-pandas-dataframe/\n",
    "https://stackoverflow.com/questions/26886653/pandas-create-new-column-based-on-values-from-other-columns-apply-a-function-o\n",
    "\n",
    "lambda functions\n",
    "https://www.w3schools.com/python/python_lambda.asp\n",
    "\n",
    "pandas dataframe.apply()\n",
    "https://pandas.pydata.org/docs/reference/api/pandas.DataFrame.apply.html"
   ]
  },
  {
   "cell_type": "code",
   "execution_count": 2,
   "id": "b3c3f49c-cb6c-4132-aa99-23639458e5c4",
   "metadata": {},
   "outputs": [
    {
     "name": "stdout",
     "output_type": "stream",
     "text": [
      "The coefficients for the model are: [[4.46285295 1.41755394 2.9415979  1.30583319 0.19614025]]\n",
      "The intercept of the model is [-3.0401461] \n",
      "\n",
      "The accuracy score for the model is 0.9111111111111111\n",
      "The f1 score for the model is 0.6153846153846154 \n",
      "\n"
     ]
    },
    {
     "data": {
      "image/png": "[encoded data removed]",
      "text/plain": [
       "<Figure size 432x288 with 2 Axes>"
      ]
     },
     "metadata": {
      "needs_background": "light"
     },
     "output_type": "display_data"
    }
   ],
   "source": [
    "# Importing packages\n",
    "import pandas as pd\n",
    "from sklearn.model_selection import train_test_split\n",
    "from sklearn.linear_model import LogisticRegression\n",
    "from sklearn.metrics import accuracy_score, f1_score, ConfusionMatrixDisplay, confusion_matrix\n",
    "\n",
    "# Reading data\n",
    "data = pd.read_csv('email.csv')\n",
    "\n",
    "# Assign columns based on words in email\n",
    "listOfWords = ('hyperlink','free','click','business','frequency') # set list of words to check for\n",
    "for word in listOfWords: # for each word in the list\n",
    "    data[word] = data['email'].apply( # create a column for the word, relative to 'email' column\n",
    "        lambda email: # where for each email (row)\n",
    "        1 if word in email #return 1 if the word is in email\n",
    "        else 0 #else return 0 (word is not in email)\n",
    "    )\n",
    "\n",
    "# Define function to determine frequency ratio\n",
    "def get_frequency(input_string):\n",
    "    \n",
    "    list_of_words = input_string.split(' ') #create list of words, delimited by spaces\n",
    "    dict_of_frequencies = {} #create empty dict of frequencies\n",
    "    word_count = 0 #create word_count variable, set to 0\n",
    "    \n",
    "    # finding frequency of each word in list\n",
    "    for word in list_of_words: #for each word in list\n",
    "        \n",
    "        word_count = word_count + 1 #add to word count for each word in list\n",
    "        \n",
    "        if word in dict_of_frequencies.keys(): #if word already exists in dict\n",
    "            dict_of_frequencies[word] = dict_of_frequencies[word] + 1 #add 1 to word's frequency\n",
    "        else:\n",
    "            dict_of_frequencies[word] = 1 #otherwise add word to dict, set frequency to 1\n",
    "    \n",
    "    return( \n",
    "        max(dict_of_frequencies.values())/word_count # return frequency ratio of most frequent word(s)\n",
    "    )\n",
    "\n",
    "# Assign frequency column based on ratio\n",
    "data['frequency'] = data['email'].apply(\n",
    "    lambda email: get_frequency(email) #for each email, use get_frequency() to get frequency ratio\n",
    ")\n",
    "\n",
    "# Assign features to independent/dependent\n",
    "X = data.iloc[:, 2:7] #independent, predictors\n",
    "y = data['label'] #dependent, predicted\n",
    "\n",
    "# Splitting data into train (70%) and test (30%) data\n",
    "X_train, X_test, y_train, y_test = train_test_split(X, y, test_size=0.30) \n",
    "\n",
    "# Fitting split data to linear regression model\n",
    "model = LogisticRegression().fit(X_train, y_train) #fitting the model\n",
    "print(\"The coefficients for the model are:\", model.coef_) #printing model coefficient\n",
    "print(\"The intercept of the model is\", model.intercept_,\"\\n\") #printing model intercept\n",
    "\n",
    "# Forming confusion matrix from predictions\n",
    "y_pred = model.predict(X_test) #predicting y values based on X_test values\n",
    "ConfusionMatrixDisplay.from_predictions( \n",
    "    y_test, y_pred, #displaying confusion matrix from y_pred\n",
    "    display_labels = [\"Not Spam\", \"Spam\"] #adding labels\n",
    ")\n",
    "\n",
    "# Model evaluation (finding accuracy & f1 score)\n",
    "print(\"The accuracy score for the model is\", accuracy_score(y_test, y_pred)) #printing accuracy score\n",
    "print(\"The f1 score for the model is\", f1_score(y_test, y_pred),\"\\n\") #printing f1 score\n"
   ]
  },
  {
   "cell_type": "markdown",
   "id": "fb814b12-6f2c-499c-859f-96b932bfabb3",
   "metadata": {
    "tags": []
   },
   "source": [
    "# References\n",
    "1. Communities and crime data set. https://archive.ics.uci.edu/ml/datasets/Communities+and+Crime.\n",
    "2. Chronic kidney disease dataset. https://www.kaggle.com/datasets/mansoordaku/ckdisease?resource=download.\n",
    "3. Spam or not spam dataset. https://www.kaggle.com/datasets/ozlerhakan/spam-or-not-spam-dataset"
   ]
  }
 ],
 "metadata": {
  "kernelspec": {
   "display_name": "Python 3 (ipykernel)",
   "language": "python",
   "name": "python3"
  },
  "language_info": {
   "codemirror_mode": {
    "name": "ipython",
    "version": 3
   },
   "file_extension": ".py",
   "mimetype": "text/x-python",
   "name": "python",
   "nbconvert_exporter": "python",
   "pygments_lexer": "ipython3",
   "version": "3.9.12"
  }
 },
 "nbformat": 4,
 "nbformat_minor": 5
}
